{
 "cells": [
  {
   "cell_type": "code",
   "execution_count": 1,
   "metadata": {},
   "outputs": [],
   "source": [
    "import os\n",
    "import pandas as pd\n",
    "all_text_samples = []\n",
    "labels = []\n",
    "all_files = []\n",
    "# List all files inside the \"clean_data\" directory\n",
    "file_list = os.listdir(\"clean_data/\")\n",
    "\n",
    "for filename in file_list:\n",
    "    # Construct filename and its path\n",
    "    file = (f\"clean_data/\" + filename)\n",
    "    my_text_file = open(file, encoding=\"utf8\")\n",
    "    file_data = my_text_file.read()\n",
    "    all_text_samples.append(file_data)\n",
    "    \n",
    "dataframe = pd.DataFrame(all_text_samples)\n",
    "dataframe.columns = [\"Text\"]"
   ]
  },
  {
   "cell_type": "code",
   "execution_count": 3,
   "metadata": {},
   "outputs": [],
   "source": [
    "from sklearn.feature_extraction.text import TfidfVectorizer"
   ]
  },
  {
   "cell_type": "code",
   "execution_count": 22,
   "metadata": {},
   "outputs": [],
   "source": [
    "tfidf = TfidfVectorizer(max_df=0.90, min_df=4, stop_words=\"english\")"
   ]
  },
  {
   "cell_type": "code",
   "execution_count": 23,
   "metadata": {},
   "outputs": [],
   "source": [
    "dtm_with_tfidf = tfidf.fit_transform(dataframe[\"Text\"])"
   ]
  },
  {
   "cell_type": "code",
   "execution_count": 24,
   "metadata": {},
   "outputs": [
    {
     "data": {
      "text/plain": [
       "<7911x45783 sparse matrix of type '<class 'numpy.float64'>'\n",
       "\twith 3482007 stored elements in Compressed Sparse Row format>"
      ]
     },
     "execution_count": 24,
     "metadata": {},
     "output_type": "execute_result"
    }
   ],
   "source": [
    "dtm_with_tfidf"
   ]
  },
  {
   "cell_type": "code",
   "execution_count": 8,
   "metadata": {},
   "outputs": [],
   "source": [
    "from sklearn.decomposition import NMF"
   ]
  },
  {
   "cell_type": "code",
   "execution_count": 25,
   "metadata": {},
   "outputs": [],
   "source": [
    "nmf_model = NMF(n_components=30, random_state=1)"
   ]
  },
  {
   "cell_type": "code",
   "execution_count": 26,
   "metadata": {},
   "outputs": [
    {
     "data": {
      "text/plain": [
       "NMF(alpha=0.0, beta_loss='frobenius', init=None, l1_ratio=0.0, max_iter=200,\n",
       "  n_components=30, random_state=1, shuffle=False, solver='cd', tol=0.0001,\n",
       "  verbose=0)"
      ]
     },
     "execution_count": 26,
     "metadata": {},
     "output_type": "execute_result"
    }
   ],
   "source": [
    "nmf_model.fit(dtm_with_tfidf)"
   ]
  },
  {
   "cell_type": "markdown",
   "metadata": {},
   "source": [
    "I can view any word within the matrix of names in each document just as we did with LDA."
   ]
  },
  {
   "cell_type": "code",
   "execution_count": 27,
   "metadata": {},
   "outputs": [
    {
     "data": {
      "text/plain": [
       "'benchwarmer'"
      ]
     },
     "execution_count": 27,
     "metadata": {},
     "output_type": "execute_result"
    }
   ],
   "source": [
    "tfidf.get_feature_names()[5000]"
   ]
  },
  {
   "cell_type": "code",
   "execution_count": 28,
   "metadata": {},
   "outputs": [
    {
     "name": "stdout",
     "output_type": "stream",
     "text": [
      "Top words for topic 0 are : \n",
      "['day']['life']['make']['think']['ll']['ve']['work']['know']['want']['things']['like']['just']['time']['don']['people']\n",
      "\n",
      "Top words for topic 1 are : \n",
      "['el']['más']['este']['la']['se']['si']['habilitada']['continuación']['automáticamente']['reproducirá']['siguiente']['está']['vídeo']['automática']['reproducción']\n",
      "\n",
      "Top words for topic 2 are : \n",
      "['customers']['online']['posts']['blog']['audience']['post']['share']['instagram']['brand']['twitter']['facebook']['marketing']['content']['media']['social']\n",
      "\n",
      "Top words for topic 3 are : \n",
      "['white']['donald']['voters']['party']['mr']['house']['political']['republicans']['government']['election']['republican']['obama']['congress']['president']['trump']\n",
      "\n",
      "Top words for topic 4 are : \n",
      "['flight']['flights']['app']['rankings']['engines']['searching']['keyword']['engine']['searches']['seo']['results']['want']['term']['google']['search']\n",
      "\n",
      "Top words for topic 5 are : \n",
      "['diets']['health']['sugar']['body']['protein']['paleo']['healthy']['eating']['calories']['food']['foods']['eat']['weight']['fat']['diet']\n",
      "\n",
      "Top words for topic 6 are : \n",
      "['economic']['women']['christian']['men']['political']['century']['faith']['human']['history']['people']['world']['god']['religion']['religious']['church']\n",
      "\n",
      "Top words for topic 7 are : \n",
      "['year']['nba']['teams']['games']['play']['baseball']['ball']['nfl']['player']['season']['league']['team']['football']['players']['game']\n",
      "\n",
      "Top words for topic 8 are : \n",
      "['treatment']['medicine']['physicians']['medicare']['doctor']['insurance']['surgery']['hospitals']['doctors']['medical']['patient']['hospital']['care']['health']['patients']\n",
      "\n",
      "Top words for topic 9 are : \n",
      "['teaching']['percent']['courses']['class']['learning']['universities']['teachers']['university']['colleges']['student']['school']['schools']['college']['education']['students']\n",
      "\n",
      "Top words for topic 10 are : \n",
      "['science']['systems']['technology']['processing']['insights']['value']['hadoop']['digital']['technologies']['analysis']['companies']['information']['analytics']['big']['data']\n",
      "\n",
      "Top words for topic 11 are : \n",
      "['farm']['gardening']['nature']['food']['grow']['trees']['forest']['water']['design']['soil']['plant']['species']['garden']['plants']['permaculture']\n",
      "\n",
      "Top words for topic 12 are : \n",
      "['newsletters']['email']['advertisement']['new']['ms']['times']['york']['story']['sign']['main']['reading']['continue']['newsletter']['said']['mr']\n",
      "\n",
      "Top words for topic 13 are : \n",
      "['employees']['investment']['construction']['customers']['pay']['market']['debt']['finance']['cash']['income']['companies']['financial']['company']['money']['business']\n",
      "\n",
      "Top words for topic 14 are : \n",
      "['musk']['deep']['systems']['google']['machines']['computer']['humans']['neural']['technology']['human']['machine']['learning']['artificial']['intelligence']['ai']\n",
      "\n",
      "Top words for topic 15 are : \n",
      "['play']['young']['kid']['mother']['adults']['families']['mothers']['school']['family']['parent']['parenting']['child']['kids']['parents']['children']\n",
      "\n",
      "Top words for topic 16 are : \n",
      "['runs']['strength']['pace']['miles']['workout']['runner']['race']['exercise']['body']['shoes']['marathon']['runners']['training']['run']['running']\n",
      "\n",
      "Top words for topic 17 are : \n",
      "['museums']['world']['arts']['artistic']['creative']['paint']['gallery']['artwork']['work']['paintings']['museum']['painting']['artists']['artist']['art']\n",
      "\n",
      "Top words for topic 18 are : \n",
      "['written']['professional']['picture']['discover']['day']['brief']['image']['featured']['fascinating']['photograph']['explanation']['universe']['astronomy']['cosmos']['astronomer']\n",
      "\n",
      "Top words for topic 19 are : \n",
      "['vehicles']['mclaren']['vettel']['traffic']['mercedes']['engine']['road']['ferrari']['hamilton']['f1']['drivers']['driver']['driving']['cars']['car']\n",
      "\n",
      "Top words for topic 20 are : \n",
      "['risk']['k2']['study']['taking']['b12']['deficiency']['multivitamins']['magnesium']['health']['calcium']['supplement']['cancer']['supplements']['vitamins']['vitamin']\n",
      "\n",
      "Top words for topic 21 are : \n",
      "['click']['keywords']['user']['visitors']['links']['keyword']['pages']['website']['traffic']['seo']['content']['page']['site']['google']['analytics']\n",
      "\n",
      "Top words for topic 22 are : \n",
      "['developer']['coding']['project']['design']['computer']['developers']['programmer']['programmers']['learning']['learn']['languages']['language']['software']['code']['programming']\n",
      "\n",
      "Top words for topic 23 are : \n",
      "['foundation']['lip']['cosmetics']['women']['powder']['look']['mascara']['brush']['products']['hair']['concealer']['color']['beauty']['skin']['makeup']\n",
      "\n",
      "Top words for topic 24 are : \n",
      "['destination']['world']['visitors']['traveling']['chinese']['flight']['hotel']['flights']['travelers']['trip']['tourist']['city']['tourists']['tourism']['travel']\n",
      "\n",
      "Top words for topic 25 are : \n",
      "['attorney']['graduates']['federal']['state']['firm']['constitution']['government']['firms']['schools']['court']['school']['lawyer']['lawyers']['legal']['law']\n",
      "\n",
      "Top words for topic 26 are : \n",
      "['husband']['woman']['men']['life']['person']['wedding']['women']['sex']['married']['relationships']['couples']['love']['partner']['relationship']['marriage']\n",
      "\n",
      "Top words for topic 27 are : \n",
      "['genetics']['study']['disease']['cells']['human']['researchers']['genome']['says']['crispr']['scientists']['species']['genes']['gene']['dna']['genetic']\n",
      "\n",
      "Top words for topic 28 are : \n",
      "['forecasting']['tornadoes']['forecasts']['rain']['storms']['houston']['harvey']['noaa']['hurricane']['forecast']['app']['climate']['tornado']['storm']['weather']\n",
      "\n",
      "Top words for topic 29 are : \n",
      "['cheese']['garlic']['add']['minutes']['flavor']['ingredients']['salt']['oil']['vegan']['recipes']['chicken']['sauce']['cook']['cooking']['recipe']\n",
      "\n"
     ]
    }
   ],
   "source": [
    "word_list = []\n",
    "probability_list = []\n",
    "\n",
    "top_number = 15\n",
    "count = 0\n",
    "for probability_number in nmf_model.components_:\n",
    "    text_message = f\"Top words for topic {count} are : \"\n",
    "    print(text_message)    \n",
    "    for number in probability_number.argsort()[-top_number:]:\n",
    "        print([tfidf.get_feature_names()[number]], end= \"\")\n",
    "        word_list.append([tfidf.get_feature_names()[number]])\n",
    "        probability_list.append(number)\n",
    "    #show_chart(word_list, probability_list, text_message)\n",
    "    print(\"\\n\")  \n",
    "    count += 1"
   ]
  },
  {
   "cell_type": "markdown",
   "metadata": {},
   "source": [
    "### Add topic number to original dataframe\n",
    "\n",
    "Just as we did with LDA, now I would like to add the relevant topic number to the original dataframe.\n",
    "\n",
    "We can view the probability of each particular text file belonging to a particular topic as follows:"
   ]
  },
  {
   "cell_type": "code",
   "execution_count": 30,
   "metadata": {},
   "outputs": [],
   "source": [
    "textfile_topics = nmf_model.transform(dtm_with_tfidf)"
   ]
  },
  {
   "cell_type": "code",
   "execution_count": 31,
   "metadata": {},
   "outputs": [
    {
     "data": {
      "text/plain": [
       "array([[0.00000000e+00, 6.06487900e-04, 3.16513011e-04, ...,\n",
       "        0.00000000e+00, 0.00000000e+00, 3.91064411e-05],\n",
       "       [1.48472845e-02, 0.00000000e+00, 4.80045461e-03, ...,\n",
       "        0.00000000e+00, 0.00000000e+00, 5.33331022e-03],\n",
       "       [1.59862823e-02, 0.00000000e+00, 0.00000000e+00, ...,\n",
       "        1.39454281e-03, 0.00000000e+00, 0.00000000e+00],\n",
       "       ...,\n",
       "       [7.06973122e-03, 0.00000000e+00, 0.00000000e+00, ...,\n",
       "        7.53119750e-03, 0.00000000e+00, 3.40153233e-03],\n",
       "       [1.21099398e-03, 0.00000000e+00, 1.99435698e-04, ...,\n",
       "        0.00000000e+00, 9.19710790e-04, 2.09084194e-03],\n",
       "       [0.00000000e+00, 0.00000000e+00, 0.00000000e+00, ...,\n",
       "        0.00000000e+00, 1.28626807e-02, 0.00000000e+00]])"
      ]
     },
     "execution_count": 31,
     "metadata": {},
     "output_type": "execute_result"
    }
   ],
   "source": [
    "textfile_topics"
   ]
  },
  {
   "cell_type": "markdown",
   "metadata": {},
   "source": [
    "Lets view the index values of each word for the first text file"
   ]
  },
  {
   "cell_type": "code",
   "execution_count": 32,
   "metadata": {},
   "outputs": [
    {
     "data": {
      "text/plain": [
       "array([0.00000000e+00, 6.06487900e-04, 3.16513011e-04, 9.72943769e-04,\n",
       "       1.65906253e-04, 8.20678945e-04, 1.42364380e-03, 1.49145528e-03,\n",
       "       4.49516115e-04, 0.00000000e+00, 3.91425916e-03, 0.00000000e+00,\n",
       "       4.66834930e-04, 3.25802743e-03, 0.00000000e+00, 8.13547793e-04,\n",
       "       8.19956243e-04, 0.00000000e+00, 5.90019433e-04, 0.00000000e+00,\n",
       "       4.01814767e-04, 1.47614114e-03, 8.54672078e-02, 1.18697821e-03,\n",
       "       3.39248863e-03, 2.28920823e-03, 4.04963068e-04, 0.00000000e+00,\n",
       "       0.00000000e+00, 3.91064411e-05])"
      ]
     },
     "execution_count": 32,
     "metadata": {},
     "output_type": "execute_result"
    }
   ],
   "source": [
    "textfile_topics[0]"
   ]
  },
  {
   "cell_type": "code",
   "execution_count": 33,
   "metadata": {},
   "outputs": [
    {
     "data": {
      "text/plain": [
       "(7911, 30)"
      ]
     },
     "execution_count": 33,
     "metadata": {},
     "output_type": "execute_result"
    }
   ],
   "source": [
    "# Contains list of the 30 topics for each text file, so there are\n",
    "# 7911 text files\n",
    "textfile_topics.shape"
   ]
  },
  {
   "cell_type": "markdown",
   "metadata": {},
   "source": [
    "Just as we did with LDA, we can see the values as a more representative topic number, we can round these values up. This example shows the index positions for each topic for the first text file."
   ]
  },
  {
   "cell_type": "code",
   "execution_count": 34,
   "metadata": {},
   "outputs": [
    {
     "data": {
      "text/plain": [
       "array([0.  , 0.  , 0.  , 0.  , 0.  , 0.  , 0.  , 0.  , 0.  , 0.  , 0.  ,\n",
       "       0.  , 0.  , 0.  , 0.  , 0.  , 0.  , 0.  , 0.  , 0.  , 0.  , 0.  ,\n",
       "       0.09, 0.  , 0.  , 0.  , 0.  , 0.  , 0.  , 0.  ])"
      ]
     },
     "execution_count": 34,
     "metadata": {},
     "output_type": "execute_result"
    }
   ],
   "source": [
    "textfile_topics[0].round(2)"
   ]
  },
  {
   "cell_type": "markdown",
   "metadata": {},
   "source": [
    "It appears that this document definitely belongs to topic 22.\n",
    "\n",
    "We can use the command `argmax()` to view the position of the highest probability within the array for the first topic."
   ]
  },
  {
   "cell_type": "code",
   "execution_count": 35,
   "metadata": {},
   "outputs": [
    {
     "data": {
      "text/plain": [
       "22"
      ]
     },
     "execution_count": 35,
     "metadata": {},
     "output_type": "execute_result"
    }
   ],
   "source": [
    "textfile_topics[0].argmax()"
   ]
  },
  {
   "cell_type": "markdown",
   "metadata": {},
   "source": [
    "And just as we did previously, we can add a column called **Topic number** to the text file dataframe."
   ]
  },
  {
   "cell_type": "code",
   "execution_count": 36,
   "metadata": {},
   "outputs": [],
   "source": [
    "topic_list = []\n",
    "# Textfile_topics is a list of arrays containing \n",
    "# all index positions of words for each textfile\n",
    "for popular_index_pos in textfile_topics:\n",
    "    # Get the max index position in each array\n",
    "    # and add to the topic_list list\n",
    "    topic_list.append(popular_index_pos.argmax())\n",
    "\n",
    "# Add a new column to the dataframe\n",
    "dataframe[\"Topic number\"] = topic_list"
   ]
  },
  {
   "cell_type": "code",
   "execution_count": 38,
   "metadata": {},
   "outputs": [
    {
     "data": {
      "text/html": [
       "<div>\n",
       "<style scoped>\n",
       "    .dataframe tbody tr th:only-of-type {\n",
       "        vertical-align: middle;\n",
       "    }\n",
       "\n",
       "    .dataframe tbody tr th {\n",
       "        vertical-align: top;\n",
       "    }\n",
       "\n",
       "    .dataframe thead th {\n",
       "        text-align: right;\n",
       "    }\n",
       "</style>\n",
       "<table border=\"1\" class=\"dataframe\">\n",
       "  <thead>\n",
       "    <tr style=\"text-align: right;\">\n",
       "      <th></th>\n",
       "      <th>Text</th>\n",
       "      <th>Topic number</th>\n",
       "    </tr>\n",
       "  </thead>\n",
       "  <tbody>\n",
       "    <tr>\n",
       "      <th>0</th>\n",
       "      <td>2016 Update: Whether you enjoy myth busting, P...</td>\n",
       "      <td>22</td>\n",
       "    </tr>\n",
       "    <tr>\n",
       "      <th>1</th>\n",
       "      <td>Let's start with the truth. The 3-point shot w...</td>\n",
       "      <td>7</td>\n",
       "    </tr>\n",
       "    <tr>\n",
       "      <th>2</th>\n",
       "      <td>Media playback is not supported on this device...</td>\n",
       "      <td>19</td>\n",
       "    </tr>\n",
       "    <tr>\n",
       "      <th>3</th>\n",
       "      <td>Krampus with babies postcard (via riptheskull/...</td>\n",
       "      <td>6</td>\n",
       "    </tr>\n",
       "    <tr>\n",
       "      <th>4</th>\n",
       "      <td>Last week, Michael Dorf published a long and c...</td>\n",
       "      <td>25</td>\n",
       "    </tr>\n",
       "    <tr>\n",
       "      <th>5</th>\n",
       "      <td>\"Eva Braun was the \"first lady\" of the Third R...</td>\n",
       "      <td>6</td>\n",
       "    </tr>\n",
       "    <tr>\n",
       "      <th>6</th>\n",
       "      <td>Reproducción automática Si la reproducción aut...</td>\n",
       "      <td>1</td>\n",
       "    </tr>\n",
       "    <tr>\n",
       "      <th>7</th>\n",
       "      <td>Journal reference:\\n\\nIn C. Freksa, ed., Found...</td>\n",
       "      <td>22</td>\n",
       "    </tr>\n",
       "    <tr>\n",
       "      <th>8</th>\n",
       "      <td>1. Keep makeup remover next to your bed so you...</td>\n",
       "      <td>23</td>\n",
       "    </tr>\n",
       "    <tr>\n",
       "      <th>9</th>\n",
       "      <td>Here, we refrain from providing another genera...</td>\n",
       "      <td>27</td>\n",
       "    </tr>\n",
       "    <tr>\n",
       "      <th>10</th>\n",
       "      <td>He has shared recipe for shakshuka dish of bak...</td>\n",
       "      <td>29</td>\n",
       "    </tr>\n",
       "    <tr>\n",
       "      <th>11</th>\n",
       "      <td>Capturing powerful landscape photographs, imag...</td>\n",
       "      <td>17</td>\n",
       "    </tr>\n",
       "    <tr>\n",
       "      <th>12</th>\n",
       "      <td>[This story has been optimized for offline rea...</td>\n",
       "      <td>27</td>\n",
       "    </tr>\n",
       "    <tr>\n",
       "      <th>13</th>\n",
       "      <td>Who loves Crusty Artisan Bread? We sure do! A ...</td>\n",
       "      <td>29</td>\n",
       "    </tr>\n",
       "    <tr>\n",
       "      <th>14</th>\n",
       "      <td>Dear Lifehacker,\\n\\nI'm tired of the rat race ...</td>\n",
       "      <td>13</td>\n",
       "    </tr>\n",
       "    <tr>\n",
       "      <th>15</th>\n",
       "      <td>I love to ski, but between the storm tracking,...</td>\n",
       "      <td>28</td>\n",
       "    </tr>\n",
       "    <tr>\n",
       "      <th>16</th>\n",
       "      <td>Facebook has been busy with the app updates, a...</td>\n",
       "      <td>24</td>\n",
       "    </tr>\n",
       "    <tr>\n",
       "      <th>17</th>\n",
       "      <td>Astronomy Picture of the Day Discover the cosm...</td>\n",
       "      <td>18</td>\n",
       "    </tr>\n",
       "    <tr>\n",
       "      <th>18</th>\n",
       "      <td>I will bet anyone $1 million dollars that I ca...</td>\n",
       "      <td>28</td>\n",
       "    </tr>\n",
       "    <tr>\n",
       "      <th>19</th>\n",
       "      <td>LAST night 40,000 people rented accommodation ...</td>\n",
       "      <td>19</td>\n",
       "    </tr>\n",
       "    <tr>\n",
       "      <th>20</th>\n",
       "      <td>For the first time, more than half of the memb...</td>\n",
       "      <td>3</td>\n",
       "    </tr>\n",
       "    <tr>\n",
       "      <th>21</th>\n",
       "      <td>I want you to consider the possibility that yo...</td>\n",
       "      <td>27</td>\n",
       "    </tr>\n",
       "    <tr>\n",
       "      <th>22</th>\n",
       "      <td>As a child, Dana Narvaiša hated school. Her te...</td>\n",
       "      <td>9</td>\n",
       "    </tr>\n",
       "    <tr>\n",
       "      <th>23</th>\n",
       "      <td>Having a regular date night is one of the simp...</td>\n",
       "      <td>26</td>\n",
       "    </tr>\n",
       "    <tr>\n",
       "      <th>24</th>\n",
       "      <td>Ecology has always been a bit doughy compared ...</td>\n",
       "      <td>28</td>\n",
       "    </tr>\n",
       "    <tr>\n",
       "      <th>25</th>\n",
       "      <td>Brandi Britton, a recruiter with OfficeTeam, a...</td>\n",
       "      <td>15</td>\n",
       "    </tr>\n",
       "    <tr>\n",
       "      <th>26</th>\n",
       "      <td>I once spent an afternoon on the northwestern ...</td>\n",
       "      <td>6</td>\n",
       "    </tr>\n",
       "    <tr>\n",
       "      <th>27</th>\n",
       "      <td>When the Instant Pot debuted in 2009, it was o...</td>\n",
       "      <td>29</td>\n",
       "    </tr>\n",
       "    <tr>\n",
       "      <th>28</th>\n",
       "      <td>Share\\n\\nWelcome to all the new Google Reader ...</td>\n",
       "      <td>21</td>\n",
       "    </tr>\n",
       "    <tr>\n",
       "      <th>29</th>\n",
       "      <td>Story highlights Karen L. Cox: Recent events h...</td>\n",
       "      <td>6</td>\n",
       "    </tr>\n",
       "    <tr>\n",
       "      <th>...</th>\n",
       "      <td>...</td>\n",
       "      <td>...</td>\n",
       "    </tr>\n",
       "    <tr>\n",
       "      <th>7881</th>\n",
       "      <td>Nature Valley Canada recently sat down three g...</td>\n",
       "      <td>15</td>\n",
       "    </tr>\n",
       "    <tr>\n",
       "      <th>7882</th>\n",
       "      <td>Image caption More people go to church on Sund...</td>\n",
       "      <td>6</td>\n",
       "    </tr>\n",
       "    <tr>\n",
       "      <th>7883</th>\n",
       "      <td>On first glance, it looked like a two-hour wal...</td>\n",
       "      <td>11</td>\n",
       "    </tr>\n",
       "    <tr>\n",
       "      <th>7884</th>\n",
       "      <td>Today we will cover the last of three archetyp...</td>\n",
       "      <td>6</td>\n",
       "    </tr>\n",
       "    <tr>\n",
       "      <th>7885</th>\n",
       "      <td>A brash tech entrepreneur thinks he can reinve...</td>\n",
       "      <td>9</td>\n",
       "    </tr>\n",
       "    <tr>\n",
       "      <th>7886</th>\n",
       "      <td>Publicado el 16 sept. 2016\\n\\nI built a tiled ...</td>\n",
       "      <td>28</td>\n",
       "    </tr>\n",
       "    <tr>\n",
       "      <th>7887</th>\n",
       "      <td>On 23 February, Donald Trump stood before a ra...</td>\n",
       "      <td>3</td>\n",
       "    </tr>\n",
       "    <tr>\n",
       "      <th>7888</th>\n",
       "      <td>Photo\\n\\nThe threat from North Korea has bolst...</td>\n",
       "      <td>24</td>\n",
       "    </tr>\n",
       "    <tr>\n",
       "      <th>7889</th>\n",
       "      <td>South Carolina’s state beverage is milk. Its i...</td>\n",
       "      <td>6</td>\n",
       "    </tr>\n",
       "    <tr>\n",
       "      <th>7890</th>\n",
       "      <td>In The Hitchhiker’s Guide to the Galaxy, Dougl...</td>\n",
       "      <td>27</td>\n",
       "    </tr>\n",
       "    <tr>\n",
       "      <th>7891</th>\n",
       "      <td>The following excerpt is from the Brian Tracy’...</td>\n",
       "      <td>0</td>\n",
       "    </tr>\n",
       "    <tr>\n",
       "      <th>7892</th>\n",
       "      <td>When everyone’s an artist and no one spends mo...</td>\n",
       "      <td>17</td>\n",
       "    </tr>\n",
       "    <tr>\n",
       "      <th>7893</th>\n",
       "      <td>866.9k SHARES Share Tweet\\n\\nBy Amy Carney\\n\\n...</td>\n",
       "      <td>15</td>\n",
       "    </tr>\n",
       "    <tr>\n",
       "      <th>7894</th>\n",
       "      <td>\\n\\nPhoto illustration of David Fahrenthold by...</td>\n",
       "      <td>3</td>\n",
       "    </tr>\n",
       "    <tr>\n",
       "      <th>7895</th>\n",
       "      <td>Near the heart of Scotland lies a large morass...</td>\n",
       "      <td>27</td>\n",
       "    </tr>\n",
       "    <tr>\n",
       "      <th>7896</th>\n",
       "      <td>If you look at social media a lot, as I do, yo...</td>\n",
       "      <td>2</td>\n",
       "    </tr>\n",
       "    <tr>\n",
       "      <th>7897</th>\n",
       "      <td>Graphic images depicting bloodied and dismembe...</td>\n",
       "      <td>24</td>\n",
       "    </tr>\n",
       "    <tr>\n",
       "      <th>7898</th>\n",
       "      <td>My wife and I had 12 children over the course ...</td>\n",
       "      <td>15</td>\n",
       "    </tr>\n",
       "    <tr>\n",
       "      <th>7899</th>\n",
       "      <td>Money management isn’t easy, but we do our bes...</td>\n",
       "      <td>13</td>\n",
       "    </tr>\n",
       "    <tr>\n",
       "      <th>7900</th>\n",
       "      <td>From Singapore to the USA and all around Europ...</td>\n",
       "      <td>29</td>\n",
       "    </tr>\n",
       "    <tr>\n",
       "      <th>7901</th>\n",
       "      <td>Much of what you need to know about the Lakers...</td>\n",
       "      <td>7</td>\n",
       "    </tr>\n",
       "    <tr>\n",
       "      <th>7902</th>\n",
       "      <td>The actuaries cited three main reasons they th...</td>\n",
       "      <td>8</td>\n",
       "    </tr>\n",
       "    <tr>\n",
       "      <th>7903</th>\n",
       "      <td>The Big Fat Surprise: Why Butter, Meat and Che...</td>\n",
       "      <td>5</td>\n",
       "    </tr>\n",
       "    <tr>\n",
       "      <th>7904</th>\n",
       "      <td>I had a grand plan, dear reader. I planned to ...</td>\n",
       "      <td>7</td>\n",
       "    </tr>\n",
       "    <tr>\n",
       "      <th>7905</th>\n",
       "      <td>When it comes to reaching audiences, effective...</td>\n",
       "      <td>2</td>\n",
       "    </tr>\n",
       "    <tr>\n",
       "      <th>7906</th>\n",
       "      <td>As a psychiatrist, I’ve seen this up close. I’...</td>\n",
       "      <td>8</td>\n",
       "    </tr>\n",
       "    <tr>\n",
       "      <th>7907</th>\n",
       "      <td>In 2013, a now-infamous government contractor ...</td>\n",
       "      <td>25</td>\n",
       "    </tr>\n",
       "    <tr>\n",
       "      <th>7908</th>\n",
       "      <td>In the world of art, architecture, and design,...</td>\n",
       "      <td>17</td>\n",
       "    </tr>\n",
       "    <tr>\n",
       "      <th>7909</th>\n",
       "      <td>In 1941, Juan Pujol Garcia approached intellig...</td>\n",
       "      <td>6</td>\n",
       "    </tr>\n",
       "    <tr>\n",
       "      <th>7910</th>\n",
       "      <td>Image copyright AFP Image caption Over 100 chi...</td>\n",
       "      <td>8</td>\n",
       "    </tr>\n",
       "  </tbody>\n",
       "</table>\n",
       "<p>7911 rows × 2 columns</p>\n",
       "</div>"
      ],
      "text/plain": [
       "                                                   Text  Topic number\n",
       "0     2016 Update: Whether you enjoy myth busting, P...            22\n",
       "1     Let's start with the truth. The 3-point shot w...             7\n",
       "2     Media playback is not supported on this device...            19\n",
       "3     Krampus with babies postcard (via riptheskull/...             6\n",
       "4     Last week, Michael Dorf published a long and c...            25\n",
       "5     \"Eva Braun was the \"first lady\" of the Third R...             6\n",
       "6     Reproducción automática Si la reproducción aut...             1\n",
       "7     Journal reference:\\n\\nIn C. Freksa, ed., Found...            22\n",
       "8     1. Keep makeup remover next to your bed so you...            23\n",
       "9     Here, we refrain from providing another genera...            27\n",
       "10    He has shared recipe for shakshuka dish of bak...            29\n",
       "11    Capturing powerful landscape photographs, imag...            17\n",
       "12    [This story has been optimized for offline rea...            27\n",
       "13    Who loves Crusty Artisan Bread? We sure do! A ...            29\n",
       "14    Dear Lifehacker,\\n\\nI'm tired of the rat race ...            13\n",
       "15    I love to ski, but between the storm tracking,...            28\n",
       "16    Facebook has been busy with the app updates, a...            24\n",
       "17    Astronomy Picture of the Day Discover the cosm...            18\n",
       "18    I will bet anyone $1 million dollars that I ca...            28\n",
       "19    LAST night 40,000 people rented accommodation ...            19\n",
       "20    For the first time, more than half of the memb...             3\n",
       "21    I want you to consider the possibility that yo...            27\n",
       "22    As a child, Dana Narvaiša hated school. Her te...             9\n",
       "23    Having a regular date night is one of the simp...            26\n",
       "24    Ecology has always been a bit doughy compared ...            28\n",
       "25    Brandi Britton, a recruiter with OfficeTeam, a...            15\n",
       "26    I once spent an afternoon on the northwestern ...             6\n",
       "27    When the Instant Pot debuted in 2009, it was o...            29\n",
       "28    Share\\n\\nWelcome to all the new Google Reader ...            21\n",
       "29    Story highlights Karen L. Cox: Recent events h...             6\n",
       "...                                                 ...           ...\n",
       "7881  Nature Valley Canada recently sat down three g...            15\n",
       "7882  Image caption More people go to church on Sund...             6\n",
       "7883  On first glance, it looked like a two-hour wal...            11\n",
       "7884  Today we will cover the last of three archetyp...             6\n",
       "7885  A brash tech entrepreneur thinks he can reinve...             9\n",
       "7886  Publicado el 16 sept. 2016\\n\\nI built a tiled ...            28\n",
       "7887  On 23 February, Donald Trump stood before a ra...             3\n",
       "7888  Photo\\n\\nThe threat from North Korea has bolst...            24\n",
       "7889  South Carolina’s state beverage is milk. Its i...             6\n",
       "7890  In The Hitchhiker’s Guide to the Galaxy, Dougl...            27\n",
       "7891  The following excerpt is from the Brian Tracy’...             0\n",
       "7892  When everyone’s an artist and no one spends mo...            17\n",
       "7893  866.9k SHARES Share Tweet\\n\\nBy Amy Carney\\n\\n...            15\n",
       "7894  \\n\\nPhoto illustration of David Fahrenthold by...             3\n",
       "7895  Near the heart of Scotland lies a large morass...            27\n",
       "7896  If you look at social media a lot, as I do, yo...             2\n",
       "7897  Graphic images depicting bloodied and dismembe...            24\n",
       "7898  My wife and I had 12 children over the course ...            15\n",
       "7899  Money management isn’t easy, but we do our bes...            13\n",
       "7900  From Singapore to the USA and all around Europ...            29\n",
       "7901  Much of what you need to know about the Lakers...             7\n",
       "7902  The actuaries cited three main reasons they th...             8\n",
       "7903  The Big Fat Surprise: Why Butter, Meat and Che...             5\n",
       "7904  I had a grand plan, dear reader. I planned to ...             7\n",
       "7905  When it comes to reaching audiences, effective...             2\n",
       "7906  As a psychiatrist, I’ve seen this up close. I’...             8\n",
       "7907  In 2013, a now-infamous government contractor ...            25\n",
       "7908  In the world of art, architecture, and design,...            17\n",
       "7909  In 1941, Juan Pujol Garcia approached intellig...             6\n",
       "7910  Image copyright AFP Image caption Over 100 chi...             8\n",
       "\n",
       "[7911 rows x 2 columns]"
      ]
     },
     "execution_count": 38,
     "metadata": {},
     "output_type": "execute_result"
    }
   ],
   "source": [
    "dataframe"
   ]
  },
  {
   "cell_type": "code",
   "execution_count": null,
   "metadata": {},
   "outputs": [],
   "source": []
  }
 ],
 "metadata": {
  "kernelspec": {
   "display_name": "Python 3",
   "language": "python",
   "name": "python3"
  },
  "language_info": {
   "codemirror_mode": {
    "name": "ipython",
    "version": 3
   },
   "file_extension": ".py",
   "mimetype": "text/x-python",
   "name": "python",
   "nbconvert_exporter": "python",
   "pygments_lexer": "ipython3",
   "version": "3.7.4"
  }
 },
 "nbformat": 4,
 "nbformat_minor": 2
}
