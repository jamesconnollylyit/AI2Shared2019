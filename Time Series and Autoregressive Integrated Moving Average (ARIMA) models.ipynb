{
 "cells": [
  {
   "cell_type": "markdown",
   "metadata": {},
   "source": [
    "## Introduction\n",
    "\n",
    "A time series is any metric that is measured over regular time intervals. For example, weather data, stock prices, industry forecasts, etc.\n",
    "\n",
    "In business forecasting it is quite common to deal with seasonal time series. The seasonal component may interact with the level in an additive or multiplicative way. This means that in an additive way, the amplitude of the seasonality remains constant, while in the multiplicative way it changes as the level does. Seasonal amplitude reduces if the level is decreasing. Refer to the slides on Blackboard for examples of multiplicative and additive models.\n",
    "\n",
    "Each data point **(Yt)** at time **t** in a Time Series can be expressed as either a sum or a product of 3 components, namely:\n",
    " - Seasonality (St)\n",
    " - Trend (Tt) \n",
    " - Error (et), also known as \"white noise\"\n",
    " \n",
    "For additive time series the formula used is Y<sub>t</sub> = S<sub>t</sub> + T<sub>t</sub> + ϵ<sub>t</sub>\n",
    " \n",
    "For multiplicative time series the formula used is Y<sub>t</sub> = S<sub>t</sub> x T<sub>t</sub> x ϵ<sub>t</sub>\n",
    "\n",
    "## Time series object\n",
    "\n",
    "In order to work with a time series in R, you have to place it into a time-series object. This is an R structure that contains the observations, the starting and ending time of the series, and information about its periodicity e.g. monthly, quarterly, annual data.\n",
    "\n",
    "Once data are in a time-series object, we can use numerous functions to manipulate, model, and plot the data.\n",
    "\n",
    "A vector of numbers, or a column in a data frame can be saved as a time-series object using the `ts()` function.\n",
    "\n",
    "There are several arguments in the `ts()` function including:\n",
    " - `start` - which represents the time of the first observation. Either a single number or a vector of two integers.\n",
    " - `end` - the time of the last observation, specified in the same way as start.\n",
    " - `frequency` - the number of observations per unit of time. It is used when the series is sampled an integral number of times in each unit time interval. For example, we could use a value of **7** for frequency when the data are sampled **daily**, and the natural time period is a week, **4** when there are 4 quarters in the data, or **12** when the data are sampled **monthly** and the natural time period is a year. \n",
    " \n",
    "Here's an example of a simple time serives object."
   ]
  },
  {
   "cell_type": "code",
   "execution_count": 1,
   "metadata": {},
   "outputs": [
    {
     "data": {
      "text/html": [
       "<table>\n",
       "<caption>A Time Series: 2 × 12</caption>\n",
       "<thead>\n",
       "\t<tr><th></th><th scope=col>Jan</th><th scope=col>Feb</th><th scope=col>Mar</th><th scope=col>Apr</th><th scope=col>May</th><th scope=col>Jun</th><th scope=col>Jul</th><th scope=col>Aug</th><th scope=col>Sep</th><th scope=col>Oct</th><th scope=col>Nov</th><th scope=col>Dec</th></tr>\n",
       "</thead>\n",
       "<tbody>\n",
       "\t<tr><th scope=row>2003</th><td>18</td><td>33</td><td>41</td><td> 7</td><td>34</td><td>35</td><td>24</td><td>25</td><td>24</td><td>21</td><td>25</td><td>20</td></tr>\n",
       "\t<tr><th scope=row>2004</th><td>22</td><td>31</td><td>40</td><td>29</td><td>25</td><td>21</td><td>22</td><td>54</td><td>31</td><td>25</td><td>26</td><td>35</td></tr>\n",
       "</tbody>\n",
       "</table>\n"
      ],
      "text/latex": [
       "A Time Series: 2 × 12\n",
       "\\begin{tabular}{r|llllllllllll}\n",
       "  & Jan & Feb & Mar & Apr & May & Jun & Jul & Aug & Sep & Oct & Nov & Dec\\\\\n",
       "\\hline\n",
       "\t2003 & 18 & 33 & 41 &  7 & 34 & 35 & 24 & 25 & 24 & 21 & 25 & 20\\\\\n",
       "\t2004 & 22 & 31 & 40 & 29 & 25 & 21 & 22 & 54 & 31 & 25 & 26 & 35\\\\\n",
       "\\end{tabular}\n"
      ],
      "text/markdown": [
       "\n",
       "A Time Series: 2 × 12\n",
       "\n",
       "| <!--/--> | Jan | Feb | Mar | Apr | May | Jun | Jul | Aug | Sep | Oct | Nov | Dec |\n",
       "|---|---|---|---|---|---|---|---|---|---|---|---|---|\n",
       "| 2003 | 18 | 33 | 41 |  7 | 34 | 35 | 24 | 25 | 24 | 21 | 25 | 20 |\n",
       "| 2004 | 22 | 31 | 40 | 29 | 25 | 21 | 22 | 54 | 31 | 25 | 26 | 35 |\n",
       "\n"
      ],
      "text/plain": [
       "     Jan Feb Mar Apr May Jun Jul Aug Sep Oct Nov Dec\n",
       "2003 18  33  41   7  34  35  24  25  24  21  25  20 \n",
       "2004 22  31  40  29  25  21  22  54  31  25  26  35 "
      ]
     },
     "metadata": {},
     "output_type": "display_data"
    },
    {
     "data": {
      "image/png": "[encoded data removed]",
      "text/plain": [
       "plot without title"
      ]
     },
     "metadata": {
      "image/png": {
       "height": 420,
       "width": 420
      },
      "text/plain": {
       "height": 420,
       "width": 420
      }
     },
     "output_type": "display_data"
    }
   ],
   "source": [
    "# Simple example of a time series object\n",
    "# consisting of monthly sales data over 2 years\n",
    "\n",
    "sales <- c(18, 33, 41, 7, 34, 35, 24, 25, 24, 21, 25, 20,\n",
    "           22, 31, 40, 29, 25, 21, 22, 54, 31, 25, 26, 35)\n",
    "\n",
    "# Frequency refers to the number of observations\n",
    "# per unit of time\n",
    "# In this example, each time unit is a year\n",
    "# and we use frequency = 12 to represent monthly data\n",
    "t_sales <- ts(sales, start=c(2003, 1), frequency=12)\n",
    "t_sales\n",
    "\n",
    "plot(t_sales)"
   ]
  },
  {
   "cell_type": "markdown",
   "metadata": {},
   "source": [
    "## Time series functions\n",
    "We can use functions to determine various properties of the time series object."
   ]
  },
  {
   "cell_type": "code",
   "execution_count": 2,
   "metadata": {
    "scrolled": true
   },
   "outputs": [
    {
     "data": {
      "text/html": [
       "<style>\n",
       ".list-inline {list-style: none; margin:0; padding: 0}\n",
       ".list-inline>li {display: inline-block}\n",
       ".list-inline>li:not(:last-child)::after {content: \"\\00b7\"; padding: 0 .5ex}\n",
       "</style>\n",
       "<ol class=list-inline><li>2003</li><li>1</li></ol>\n"
      ],
      "text/latex": [
       "\\begin{enumerate*}\n",
       "\\item 2003\n",
       "\\item 1\n",
       "\\end{enumerate*}\n"
      ],
      "text/markdown": [
       "1. 2003\n",
       "2. 1\n",
       "\n",
       "\n"
      ],
      "text/plain": [
       "[1] 2003    1"
      ]
     },
     "metadata": {},
     "output_type": "display_data"
    },
    {
     "data": {
      "text/html": [
       "<style>\n",
       ".list-inline {list-style: none; margin:0; padding: 0}\n",
       ".list-inline>li {display: inline-block}\n",
       ".list-inline>li:not(:last-child)::after {content: \"\\00b7\"; padding: 0 .5ex}\n",
       "</style>\n",
       "<ol class=list-inline><li>2004</li><li>12</li></ol>\n"
      ],
      "text/latex": [
       "\\begin{enumerate*}\n",
       "\\item 2004\n",
       "\\item 12\n",
       "\\end{enumerate*}\n"
      ],
      "text/markdown": [
       "1. 2004\n",
       "2. 12\n",
       "\n",
       "\n"
      ],
      "text/plain": [
       "[1] 2004   12"
      ]
     },
     "metadata": {},
     "output_type": "display_data"
    },
    {
     "data": {
      "text/html": [
       "12"
      ],
      "text/latex": [
       "12"
      ],
      "text/markdown": [
       "12"
      ],
      "text/plain": [
       "[1] 12"
      ]
     },
     "metadata": {},
     "output_type": "display_data"
    }
   ],
   "source": [
    "start(t_sales)\n",
    "end(t_sales)\n",
    "frequency(t_sales)"
   ]
  },
  {
   "cell_type": "markdown",
   "metadata": {},
   "source": [
    "We can display some inforamtion on the Nile time series."
   ]
  },
  {
   "cell_type": "code",
   "execution_count": 3,
   "metadata": {},
   "outputs": [
    {
     "data": {
      "text/html": [
       "'ts'"
      ],
      "text/latex": [
       "'ts'"
      ],
      "text/markdown": [
       "'ts'"
      ],
      "text/plain": [
       "[1] \"ts\""
      ]
     },
     "metadata": {},
     "output_type": "display_data"
    }
   ],
   "source": [
    "class(Nile)"
   ]
  },
  {
   "cell_type": "code",
   "execution_count": 4,
   "metadata": {
    "scrolled": true
   },
   "outputs": [
    {
     "data": {
      "text/html": [
       "<style>\n",
       ".list-inline {list-style: none; margin:0; padding: 0}\n",
       ".list-inline>li {display: inline-block}\n",
       ".list-inline>li:not(:last-child)::after {content: \"\\00b7\"; padding: 0 .5ex}\n",
       "</style>\n",
       "<ol class=list-inline><li>1871</li><li>1</li></ol>\n"
      ],
      "text/latex": [
       "\\begin{enumerate*}\n",
       "\\item 1871\n",
       "\\item 1\n",
       "\\end{enumerate*}\n"
      ],
      "text/markdown": [
       "1. 1871\n",
       "2. 1\n",
       "\n",
       "\n"
      ],
      "text/plain": [
       "[1] 1871    1"
      ]
     },
     "metadata": {},
     "output_type": "display_data"
    }
   ],
   "source": [
    "start(Nile)"
   ]
  },
  {
   "cell_type": "code",
   "execution_count": 5,
   "metadata": {},
   "outputs": [
    {
     "data": {
      "text/html": [
       "<style>\n",
       ".list-inline {list-style: none; margin:0; padding: 0}\n",
       ".list-inline>li {display: inline-block}\n",
       ".list-inline>li:not(:last-child)::after {content: \"\\00b7\"; padding: 0 .5ex}\n",
       "</style>\n",
       "<ol class=list-inline><li>1970</li><li>1</li></ol>\n"
      ],
      "text/latex": [
       "\\begin{enumerate*}\n",
       "\\item 1970\n",
       "\\item 1\n",
       "\\end{enumerate*}\n"
      ],
      "text/markdown": [
       "1. 1970\n",
       "2. 1\n",
       "\n",
       "\n"
      ],
      "text/plain": [
       "[1] 1970    1"
      ]
     },
     "metadata": {},
     "output_type": "display_data"
    }
   ],
   "source": [
    "end(Nile)"
   ]
  },
  {
   "cell_type": "code",
   "execution_count": 6,
   "metadata": {},
   "outputs": [
    {
     "data": {
      "text/html": [
       "1"
      ],
      "text/latex": [
       "1"
      ],
      "text/markdown": [
       "1"
      ],
      "text/plain": [
       "[1] 1"
      ]
     },
     "metadata": {},
     "output_type": "display_data"
    }
   ],
   "source": [
    "frequency(Nile)"
   ]
  },
  {
   "cell_type": "code",
   "execution_count": 7,
   "metadata": {},
   "outputs": [
    {
     "data": {
      "text/plain": [
       "   Min. 1st Qu.  Median    Mean 3rd Qu.    Max. \n",
       "  456.0   798.5   893.5   919.4  1032.5  1370.0 "
      ]
     },
     "metadata": {},
     "output_type": "display_data"
    }
   ],
   "source": [
    "summary(Nile)"
   ]
  },
  {
   "cell_type": "markdown",
   "metadata": {},
   "source": [
    "This information shows that the Nile is a time series object that contains data between 1871 to 1970. The frequency indicates the data is annualised. "
   ]
  },
  {
   "cell_type": "markdown",
   "metadata": {},
   "source": [
    "## First steps of time series\n",
    "Describing a time series numerically and visually should be the first step before attempting to build complex models. The first step when investigating a time series is to plot it.\n",
    "\n",
    "Consider the `Nile` time series. It records the annual flow of the river Nile at Ashwan from 1871–1970. \n",
    "Time series typically have a significant irregular or error component. In order to remove patterns in the data, we can plot a smoothed curve that damps down these fluctuations through simple moving averages. \n",
    "For example, each data point can be replaced with the mean of that observation and one observation before and after it. This is called a `centered moving average`."
   ]
  },
  {
   "cell_type": "code",
   "execution_count": 8,
   "metadata": {},
   "outputs": [
    {
     "name": "stderr",
     "output_type": "stream",
     "text": [
      "Warning message:\n",
      "\"package 'forecast' was built under R version 3.6.3\"\n",
      "Registered S3 method overwritten by 'quantmod':\n",
      "  method            from\n",
      "  as.zoo.data.frame zoo \n",
      "\n"
     ]
    },
    {
     "data": {
      "image/png": "[encoded data removed]",
      "text/plain": [
       "Plot with title \"Simple Moving Averages (k=15)\""
      ]
     },
     "metadata": {
      "image/png": {
       "height": 420,
       "width": 420
      },
      "text/plain": {
       "height": 420,
       "width": 420
      }
     },
     "output_type": "display_data"
    }
   ],
   "source": [
    "#install.packages(\"forecast\")\n",
    "library(forecast)\n",
    "\n",
    "opar <- par(no.readonly=TRUE)\n",
    "par(mfrow=c(2,2))\n",
    "\n",
    "ylim <- c(min(Nile), max(Nile))\n",
    "plot(Nile, main=\"Raw time series\")\n",
    "# ma() function used to smooth the Nile time series\n",
    "plot(ma(Nile, 3), main=\"Simple Moving Averages (k=3)\", ylim=ylim)\n",
    "plot(ma(Nile, 7), main=\"Simple Moving Averages (k=7)\", ylim=ylim)\n",
    "plot(ma(Nile, 15), main=\"Simple Moving Averages (k=15)\", ylim=ylim)\n",
    "par(opar)\n",
    "# As k increases, plot becomes increasingly smooth"
   ]
  },
  {
   "cell_type": "markdown",
   "metadata": {},
   "source": [
    "## Stationarity\n",
    "\n",
    "In the most intuitive sense, stationarity means that the statistical properties of a process generating a time series do not change over time. It does not mean that the series does not change over time, just that the way it changes does not itself change over time. \n",
    "\n",
    "The algebraic equivalent is a linear function, perhaps, and not a constant one; the value of a linear function changes as 𝒙 grows, but the way it changes remains constant — it has a constant slope; one value that captures that rate of change.\n",
    "\n",
    "A time series is said to be stationary if it holds the following conditions true.\n",
    " - The mean value of time-series is constant over time, which implies, the trend component is nullified.\n",
    " - The variance does not increase over time.\n",
    " - Seasonality effect is minimal.<br>\n",
    " \n",
    "This means it is devoid of trend or seasonal patterns, which makes it looks like a random white noise irrespective of the observed time interval.\n",
    "\n",
    "\n",
    "## Why is stationarity important?\n",
    "The stationary processes are easier to analyse. Stationary processes are a sub-class of a wider family of possible models of reality. This sub-class is much easier to model and investigate. Such processes should be possible to predict, as the way they change is predictable.\n",
    "\n",
    "## How to determine if a time series is stationary\n",
    "\n",
    "We can apply the `adf.test()` function to apply the **Augmented Dickey-Fuller Test**. "
   ]
  },
  {
   "cell_type": "code",
   "execution_count": 9,
   "metadata": {},
   "outputs": [
    {
     "name": "stderr",
     "output_type": "stream",
     "text": [
      "Warning message:\n",
      "\"package 'tseries' was built under R version 3.6.3\"\n"
     ]
    },
    {
     "data": {
      "text/plain": [
       "\n",
       "\tAugmented Dickey-Fuller Test\n",
       "\n",
       "data:  Nile\n",
       "Dickey-Fuller = -3.3657, Lag order = 4, p-value = 0.0642\n",
       "alternative hypothesis: stationary\n"
      ]
     },
     "metadata": {},
     "output_type": "display_data"
    }
   ],
   "source": [
    "# Test if a time series is stationary\n",
    "library(tseries)\n",
    "# p-value < 0.05 indicates the TS is stationary\n",
    "# In this eample, Nile data is not stationary\n",
    "adf.test(Nile)"
   ]
  },
  {
   "cell_type": "markdown",
   "metadata": {},
   "source": [
    "The `adf.test()` function shows that the Nile dataset is currently not recognised at stationary.\n",
    "\n",
    "Stationary testing and converting a series into a stationary series are the most critical processes in time series modelling. \n",
    "\n",
    "Let’s now consider an example to show you what a time series looks like."
   ]
  },
  {
   "cell_type": "markdown",
   "metadata": {},
   "source": [
    "## time series example using the Air Passengers dataset\n",
    "\n",
    "In this example I'm using the `AirPassengers` data, which is a monthly time series in thousands. You can view more information on this time series by looking at the help on this.\n",
    "\n",
    "Lets allocate the time series object to a variable first."
   ]
  },
  {
   "cell_type": "code",
   "execution_count": 10,
   "metadata": {},
   "outputs": [],
   "source": [
    "air_passengers <- ts(AirPassengers)"
   ]
  },
  {
   "cell_type": "markdown",
   "metadata": {},
   "source": [
    "We can view the `type` of this object using the `class()` function."
   ]
  },
  {
   "cell_type": "code",
   "execution_count": 11,
   "metadata": {},
   "outputs": [
    {
     "data": {
      "text/html": [
       "'ts'"
      ],
      "text/latex": [
       "'ts'"
      ],
      "text/markdown": [
       "'ts'"
      ],
      "text/plain": [
       "[1] \"ts\""
      ]
     },
     "metadata": {},
     "output_type": "display_data"
    }
   ],
   "source": [
    "class(air_passengers)"
   ]
  },
  {
   "cell_type": "markdown",
   "metadata": {},
   "source": [
    "The AirPassenger dataset in R provides monthly totals of a US airline passengers, from 1949 to 1960. This dataset is already of a time series class therefore no further class or date manipulation is required.\n",
    "\n",
    "We can lok at some information on the time series object though."
   ]
  },
  {
   "cell_type": "code",
   "execution_count": 12,
   "metadata": {},
   "outputs": [
    {
     "name": "stdout",
     "output_type": "stream",
     "text": [
      "Start of air passengers :  1 1 \n",
      "End of air passengers :  144 1 \n",
      "Frequency of air passengers :  1 \n",
      "   Min. 1st Qu.  Median    Mean 3rd Qu.    Max. \n",
      "  104.0   180.0   265.5   280.3   360.5   622.0 \n"
     ]
    }
   ],
   "source": [
    "cat(\"Start of air passengers : \", start(air_passengers), \"\\n\")\n",
    "cat(\"End of air passengers : \", end(air_passengers), \"\\n\")\n",
    "cat(\"Frequency of air passengers : \", frequency(air_passengers), \"\\n\")\n",
    "print(summary(air_passengers))\n"
   ]
  },
  {
   "cell_type": "markdown",
   "metadata": {},
   "source": [
    "The frequency value does not look like it is configured correctly. This appears to be in a yearly cycle. It should be in a monthly cycle."
   ]
  },
  {
   "cell_type": "code",
   "execution_count": 13,
   "metadata": {
    "scrolled": true
   },
   "outputs": [
    {
     "data": {
      "text/html": [
       "1"
      ],
      "text/latex": [
       "1"
      ],
      "text/markdown": [
       "1"
      ],
      "text/plain": [
       "[1] 1"
      ]
     },
     "metadata": {},
     "output_type": "display_data"
    },
    {
     "data": {
      "text/html": [
       "A Time Series:<br><style>\n",
       ".list-inline {list-style: none; margin:0; padding: 0}\n",
       ".list-inline>li {display: inline-block}\n",
       ".list-inline>li:not(:last-child)::after {content: \"\\00b7\"; padding: 0 .5ex}\n",
       "</style>\n",
       "<ol class=list-inline><li>1</li><li>1</li><li>1</li><li>1</li><li>1</li><li>1</li><li>1</li><li>1</li><li>1</li><li>1</li><li>1</li><li>1</li><li>1</li><li>1</li><li>1</li><li>1</li><li>1</li><li>1</li><li>1</li><li>1</li><li>1</li><li>1</li><li>1</li><li>1</li><li>1</li><li>1</li><li>1</li><li>1</li><li>1</li><li>1</li><li>1</li><li>1</li><li>1</li><li>1</li><li>1</li><li>1</li><li>1</li><li>1</li><li>1</li><li>1</li><li>1</li><li>1</li><li>1</li><li>1</li><li>1</li><li>1</li><li>1</li><li>1</li><li>1</li><li>1</li><li>1</li><li>1</li><li>1</li><li>1</li><li>1</li><li>1</li><li>1</li><li>1</li><li>1</li><li>1</li><li>1</li><li>1</li><li>1</li><li>1</li><li>1</li><li>1</li><li>1</li><li>1</li><li>1</li><li>1</li><li>1</li><li>1</li><li>1</li><li>1</li><li>1</li><li>1</li><li>1</li><li>1</li><li>1</li><li>1</li><li>1</li><li>1</li><li>1</li><li>1</li><li>1</li><li>1</li><li>1</li><li>1</li><li>1</li><li>1</li><li>1</li><li>1</li><li>1</li><li>1</li><li>1</li><li>1</li><li>1</li><li>1</li><li>1</li><li>1</li><li>1</li><li>1</li><li>1</li><li>1</li><li>1</li><li>1</li><li>1</li><li>1</li><li>1</li><li>1</li><li>1</li><li>1</li><li>1</li><li>1</li><li>1</li><li>1</li><li>1</li><li>1</li><li>1</li><li>1</li><li>1</li><li>1</li><li>1</li><li>1</li><li>1</li><li>1</li><li>1</li><li>1</li><li>1</li><li>1</li><li>1</li><li>1</li><li>1</li><li>1</li><li>1</li><li>1</li><li>1</li><li>1</li><li>1</li><li>1</li><li>1</li><li>1</li><li>1</li><li>1</li></ol>\n"
      ],
      "text/latex": [
       "A Time Series:\\\\\\begin{enumerate*}\n",
       "\\item 1\n",
       "\\item 1\n",
       "\\item 1\n",
       "\\item 1\n",
       "\\item 1\n",
       "\\item 1\n",
       "\\item 1\n",
       "\\item 1\n",
       "\\item 1\n",
       "\\item 1\n",
       "\\item 1\n",
       "\\item 1\n",
       "\\item 1\n",
       "\\item 1\n",
       "\\item 1\n",
       "\\item 1\n",
       "\\item 1\n",
       "\\item 1\n",
       "\\item 1\n",
       "\\item 1\n",
       "\\item 1\n",
       "\\item 1\n",
       "\\item 1\n",
       "\\item 1\n",
       "\\item 1\n",
       "\\item 1\n",
       "\\item 1\n",
       "\\item 1\n",
       "\\item 1\n",
       "\\item 1\n",
       "\\item 1\n",
       "\\item 1\n",
       "\\item 1\n",
       "\\item 1\n",
       "\\item 1\n",
       "\\item 1\n",
       "\\item 1\n",
       "\\item 1\n",
       "\\item 1\n",
       "\\item 1\n",
       "\\item 1\n",
       "\\item 1\n",
       "\\item 1\n",
       "\\item 1\n",
       "\\item 1\n",
       "\\item 1\n",
       "\\item 1\n",
       "\\item 1\n",
       "\\item 1\n",
       "\\item 1\n",
       "\\item 1\n",
       "\\item 1\n",
       "\\item 1\n",
       "\\item 1\n",
       "\\item 1\n",
       "\\item 1\n",
       "\\item 1\n",
       "\\item 1\n",
       "\\item 1\n",
       "\\item 1\n",
       "\\item 1\n",
       "\\item 1\n",
       "\\item 1\n",
       "\\item 1\n",
       "\\item 1\n",
       "\\item 1\n",
       "\\item 1\n",
       "\\item 1\n",
       "\\item 1\n",
       "\\item 1\n",
       "\\item 1\n",
       "\\item 1\n",
       "\\item 1\n",
       "\\item 1\n",
       "\\item 1\n",
       "\\item 1\n",
       "\\item 1\n",
       "\\item 1\n",
       "\\item 1\n",
       "\\item 1\n",
       "\\item 1\n",
       "\\item 1\n",
       "\\item 1\n",
       "\\item 1\n",
       "\\item 1\n",
       "\\item 1\n",
       "\\item 1\n",
       "\\item 1\n",
       "\\item 1\n",
       "\\item 1\n",
       "\\item 1\n",
       "\\item 1\n",
       "\\item 1\n",
       "\\item 1\n",
       "\\item 1\n",
       "\\item 1\n",
       "\\item 1\n",
       "\\item 1\n",
       "\\item 1\n",
       "\\item 1\n",
       "\\item 1\n",
       "\\item 1\n",
       "\\item 1\n",
       "\\item 1\n",
       "\\item 1\n",
       "\\item 1\n",
       "\\item 1\n",
       "\\item 1\n",
       "\\item 1\n",
       "\\item 1\n",
       "\\item 1\n",
       "\\item 1\n",
       "\\item 1\n",
       "\\item 1\n",
       "\\item 1\n",
       "\\item 1\n",
       "\\item 1\n",
       "\\item 1\n",
       "\\item 1\n",
       "\\item 1\n",
       "\\item 1\n",
       "\\item 1\n",
       "\\item 1\n",
       "\\item 1\n",
       "\\item 1\n",
       "\\item 1\n",
       "\\item 1\n",
       "\\item 1\n",
       "\\item 1\n",
       "\\item 1\n",
       "\\item 1\n",
       "\\item 1\n",
       "\\item 1\n",
       "\\item 1\n",
       "\\item 1\n",
       "\\item 1\n",
       "\\item 1\n",
       "\\item 1\n",
       "\\item 1\n",
       "\\item 1\n",
       "\\item 1\n",
       "\\item 1\n",
       "\\item 1\n",
       "\\item 1\n",
       "\\end{enumerate*}\n"
      ],
      "text/markdown": [
       "A Time Series:  \n",
       "1. 1\n",
       "2. 1\n",
       "3. 1\n",
       "4. 1\n",
       "5. 1\n",
       "6. 1\n",
       "7. 1\n",
       "8. 1\n",
       "9. 1\n",
       "10. 1\n",
       "11. 1\n",
       "12. 1\n",
       "13. 1\n",
       "14. 1\n",
       "15. 1\n",
       "16. 1\n",
       "17. 1\n",
       "18. 1\n",
       "19. 1\n",
       "20. 1\n",
       "21. 1\n",
       "22. 1\n",
       "23. 1\n",
       "24. 1\n",
       "25. 1\n",
       "26. 1\n",
       "27. 1\n",
       "28. 1\n",
       "29. 1\n",
       "30. 1\n",
       "31. 1\n",
       "32. 1\n",
       "33. 1\n",
       "34. 1\n",
       "35. 1\n",
       "36. 1\n",
       "37. 1\n",
       "38. 1\n",
       "39. 1\n",
       "40. 1\n",
       "41. 1\n",
       "42. 1\n",
       "43. 1\n",
       "44. 1\n",
       "45. 1\n",
       "46. 1\n",
       "47. 1\n",
       "48. 1\n",
       "49. 1\n",
       "50. 1\n",
       "51. 1\n",
       "52. 1\n",
       "53. 1\n",
       "54. 1\n",
       "55. 1\n",
       "56. 1\n",
       "57. 1\n",
       "58. 1\n",
       "59. 1\n",
       "60. 1\n",
       "61. 1\n",
       "62. 1\n",
       "63. 1\n",
       "64. 1\n",
       "65. 1\n",
       "66. 1\n",
       "67. 1\n",
       "68. 1\n",
       "69. 1\n",
       "70. 1\n",
       "71. 1\n",
       "72. 1\n",
       "73. 1\n",
       "74. 1\n",
       "75. 1\n",
       "76. 1\n",
       "77. 1\n",
       "78. 1\n",
       "79. 1\n",
       "80. 1\n",
       "81. 1\n",
       "82. 1\n",
       "83. 1\n",
       "84. 1\n",
       "85. 1\n",
       "86. 1\n",
       "87. 1\n",
       "88. 1\n",
       "89. 1\n",
       "90. 1\n",
       "91. 1\n",
       "92. 1\n",
       "93. 1\n",
       "94. 1\n",
       "95. 1\n",
       "96. 1\n",
       "97. 1\n",
       "98. 1\n",
       "99. 1\n",
       "100. 1\n",
       "101. 1\n",
       "102. 1\n",
       "103. 1\n",
       "104. 1\n",
       "105. 1\n",
       "106. 1\n",
       "107. 1\n",
       "108. 1\n",
       "109. 1\n",
       "110. 1\n",
       "111. 1\n",
       "112. 1\n",
       "113. 1\n",
       "114. 1\n",
       "115. 1\n",
       "116. 1\n",
       "117. 1\n",
       "118. 1\n",
       "119. 1\n",
       "120. 1\n",
       "121. 1\n",
       "122. 1\n",
       "123. 1\n",
       "124. 1\n",
       "125. 1\n",
       "126. 1\n",
       "127. 1\n",
       "128. 1\n",
       "129. 1\n",
       "130. 1\n",
       "131. 1\n",
       "132. 1\n",
       "133. 1\n",
       "134. 1\n",
       "135. 1\n",
       "136. 1\n",
       "137. 1\n",
       "138. 1\n",
       "139. 1\n",
       "140. 1\n",
       "141. 1\n",
       "142. 1\n",
       "143. 1\n",
       "144. 1\n",
       "\n",
       "\n"
      ],
      "text/plain": [
       "A Time Series:\n",
       "  [1] 1 1 1 1 1 1 1 1 1 1 1 1 1 1 1 1 1 1 1 1 1 1 1 1 1 1 1 1 1 1 1 1 1 1 1 1 1\n",
       " [38] 1 1 1 1 1 1 1 1 1 1 1 1 1 1 1 1 1 1 1 1 1 1 1 1 1 1 1 1 1 1 1 1 1 1 1 1 1\n",
       " [75] 1 1 1 1 1 1 1 1 1 1 1 1 1 1 1 1 1 1 1 1 1 1 1 1 1 1 1 1 1 1 1 1 1 1 1 1 1\n",
       "[112] 1 1 1 1 1 1 1 1 1 1 1 1 1 1 1 1 1 1 1 1 1 1 1 1 1 1 1 1 1 1 1 1 1"
      ]
     },
     "metadata": {},
     "output_type": "display_data"
    }
   ],
   "source": [
    "## Exploratory data analysis\n",
    "frequency(air_passengers)\n",
    "cycle(air_passengers)"
   ]
  },
  {
   "cell_type": "markdown",
   "metadata": {},
   "source": [
    "I can convert the time series object so that it is in the correct format using this code."
   ]
  },
  {
   "cell_type": "code",
   "execution_count": 14,
   "metadata": {},
   "outputs": [],
   "source": [
    "# Correct the time series structure\n",
    "# so that it is in a monthly cycle starting at Jan 1949\n",
    "air_passengers <- ts(AirPassengers, start=c(1949, 1), frequency=12)"
   ]
  },
  {
   "cell_type": "code",
   "execution_count": 15,
   "metadata": {},
   "outputs": [
    {
     "data": {
      "text/html": [
       "<table>\n",
       "<caption>A Time Series: 12 × 12</caption>\n",
       "<thead>\n",
       "\t<tr><th></th><th scope=col>Jan</th><th scope=col>Feb</th><th scope=col>Mar</th><th scope=col>Apr</th><th scope=col>May</th><th scope=col>Jun</th><th scope=col>Jul</th><th scope=col>Aug</th><th scope=col>Sep</th><th scope=col>Oct</th><th scope=col>Nov</th><th scope=col>Dec</th></tr>\n",
       "</thead>\n",
       "<tbody>\n",
       "\t<tr><th scope=row>1949</th><td> 1</td><td> 2</td><td> 3</td><td> 4</td><td> 5</td><td> 6</td><td> 7</td><td> 8</td><td> 9</td><td>10</td><td>11</td><td>12</td></tr>\n",
       "\t<tr><th scope=row>1950</th><td> 1</td><td> 2</td><td> 3</td><td> 4</td><td> 5</td><td> 6</td><td> 7</td><td> 8</td><td> 9</td><td>10</td><td>11</td><td>12</td></tr>\n",
       "\t<tr><th scope=row>1951</th><td> 1</td><td> 2</td><td> 3</td><td> 4</td><td> 5</td><td> 6</td><td> 7</td><td> 8</td><td> 9</td><td>10</td><td>11</td><td>12</td></tr>\n",
       "\t<tr><th scope=row>1952</th><td> 1</td><td> 2</td><td> 3</td><td> 4</td><td> 5</td><td> 6</td><td> 7</td><td> 8</td><td> 9</td><td>10</td><td>11</td><td>12</td></tr>\n",
       "\t<tr><th scope=row>1953</th><td> 1</td><td> 2</td><td> 3</td><td> 4</td><td> 5</td><td> 6</td><td> 7</td><td> 8</td><td> 9</td><td>10</td><td>11</td><td>12</td></tr>\n",
       "\t<tr><th scope=row>1954</th><td> 1</td><td> 2</td><td> 3</td><td> 4</td><td> 5</td><td> 6</td><td> 7</td><td> 8</td><td> 9</td><td>10</td><td>11</td><td>12</td></tr>\n",
       "\t<tr><th scope=row>1955</th><td> 1</td><td> 2</td><td> 3</td><td> 4</td><td> 5</td><td> 6</td><td> 7</td><td> 8</td><td> 9</td><td>10</td><td>11</td><td>12</td></tr>\n",
       "\t<tr><th scope=row>1956</th><td> 1</td><td> 2</td><td> 3</td><td> 4</td><td> 5</td><td> 6</td><td> 7</td><td> 8</td><td> 9</td><td>10</td><td>11</td><td>12</td></tr>\n",
       "\t<tr><th scope=row>1957</th><td> 1</td><td> 2</td><td> 3</td><td> 4</td><td> 5</td><td> 6</td><td> 7</td><td> 8</td><td> 9</td><td>10</td><td>11</td><td>12</td></tr>\n",
       "\t<tr><th scope=row>1958</th><td> 1</td><td> 2</td><td> 3</td><td> 4</td><td> 5</td><td> 6</td><td> 7</td><td> 8</td><td> 9</td><td>10</td><td>11</td><td>12</td></tr>\n",
       "\t<tr><th scope=row>1959</th><td> 1</td><td> 2</td><td> 3</td><td> 4</td><td> 5</td><td> 6</td><td> 7</td><td> 8</td><td> 9</td><td>10</td><td>11</td><td>12</td></tr>\n",
       "\t<tr><th scope=row>1960</th><td> 1</td><td> 2</td><td> 3</td><td> 4</td><td> 5</td><td> 6</td><td> 7</td><td> 8</td><td> 9</td><td>10</td><td>11</td><td>12</td></tr>\n",
       "</tbody>\n",
       "</table>\n"
      ],
      "text/latex": [
       "A Time Series: 12 × 12\n",
       "\\begin{tabular}{r|llllllllllll}\n",
       "  & Jan & Feb & Mar & Apr & May & Jun & Jul & Aug & Sep & Oct & Nov & Dec\\\\\n",
       "\\hline\n",
       "\t1949 &  1 &  2 &  3 &  4 &  5 &  6 &  7 &  8 &  9 & 10 & 11 & 12\\\\\n",
       "\t1950 &  1 &  2 &  3 &  4 &  5 &  6 &  7 &  8 &  9 & 10 & 11 & 12\\\\\n",
       "\t1951 &  1 &  2 &  3 &  4 &  5 &  6 &  7 &  8 &  9 & 10 & 11 & 12\\\\\n",
       "\t1952 &  1 &  2 &  3 &  4 &  5 &  6 &  7 &  8 &  9 & 10 & 11 & 12\\\\\n",
       "\t1953 &  1 &  2 &  3 &  4 &  5 &  6 &  7 &  8 &  9 & 10 & 11 & 12\\\\\n",
       "\t1954 &  1 &  2 &  3 &  4 &  5 &  6 &  7 &  8 &  9 & 10 & 11 & 12\\\\\n",
       "\t1955 &  1 &  2 &  3 &  4 &  5 &  6 &  7 &  8 &  9 & 10 & 11 & 12\\\\\n",
       "\t1956 &  1 &  2 &  3 &  4 &  5 &  6 &  7 &  8 &  9 & 10 & 11 & 12\\\\\n",
       "\t1957 &  1 &  2 &  3 &  4 &  5 &  6 &  7 &  8 &  9 & 10 & 11 & 12\\\\\n",
       "\t1958 &  1 &  2 &  3 &  4 &  5 &  6 &  7 &  8 &  9 & 10 & 11 & 12\\\\\n",
       "\t1959 &  1 &  2 &  3 &  4 &  5 &  6 &  7 &  8 &  9 & 10 & 11 & 12\\\\\n",
       "\t1960 &  1 &  2 &  3 &  4 &  5 &  6 &  7 &  8 &  9 & 10 & 11 & 12\\\\\n",
       "\\end{tabular}\n"
      ],
      "text/markdown": [
       "\n",
       "A Time Series: 12 × 12\n",
       "\n",
       "| <!--/--> | Jan | Feb | Mar | Apr | May | Jun | Jul | Aug | Sep | Oct | Nov | Dec |\n",
       "|---|---|---|---|---|---|---|---|---|---|---|---|---|\n",
       "| 1949 |  1 |  2 |  3 |  4 |  5 |  6 |  7 |  8 |  9 | 10 | 11 | 12 |\n",
       "| 1950 |  1 |  2 |  3 |  4 |  5 |  6 |  7 |  8 |  9 | 10 | 11 | 12 |\n",
       "| 1951 |  1 |  2 |  3 |  4 |  5 |  6 |  7 |  8 |  9 | 10 | 11 | 12 |\n",
       "| 1952 |  1 |  2 |  3 |  4 |  5 |  6 |  7 |  8 |  9 | 10 | 11 | 12 |\n",
       "| 1953 |  1 |  2 |  3 |  4 |  5 |  6 |  7 |  8 |  9 | 10 | 11 | 12 |\n",
       "| 1954 |  1 |  2 |  3 |  4 |  5 |  6 |  7 |  8 |  9 | 10 | 11 | 12 |\n",
       "| 1955 |  1 |  2 |  3 |  4 |  5 |  6 |  7 |  8 |  9 | 10 | 11 | 12 |\n",
       "| 1956 |  1 |  2 |  3 |  4 |  5 |  6 |  7 |  8 |  9 | 10 | 11 | 12 |\n",
       "| 1957 |  1 |  2 |  3 |  4 |  5 |  6 |  7 |  8 |  9 | 10 | 11 | 12 |\n",
       "| 1958 |  1 |  2 |  3 |  4 |  5 |  6 |  7 |  8 |  9 | 10 | 11 | 12 |\n",
       "| 1959 |  1 |  2 |  3 |  4 |  5 |  6 |  7 |  8 |  9 | 10 | 11 | 12 |\n",
       "| 1960 |  1 |  2 |  3 |  4 |  5 |  6 |  7 |  8 |  9 | 10 | 11 | 12 |\n",
       "\n"
      ],
      "text/plain": [
       "     Jan Feb Mar Apr May Jun Jul Aug Sep Oct Nov Dec\n",
       "1949  1   2   3   4   5   6   7   8   9  10  11  12 \n",
       "1950  1   2   3   4   5   6   7   8   9  10  11  12 \n",
       "1951  1   2   3   4   5   6   7   8   9  10  11  12 \n",
       "1952  1   2   3   4   5   6   7   8   9  10  11  12 \n",
       "1953  1   2   3   4   5   6   7   8   9  10  11  12 \n",
       "1954  1   2   3   4   5   6   7   8   9  10  11  12 \n",
       "1955  1   2   3   4   5   6   7   8   9  10  11  12 \n",
       "1956  1   2   3   4   5   6   7   8   9  10  11  12 \n",
       "1957  1   2   3   4   5   6   7   8   9  10  11  12 \n",
       "1958  1   2   3   4   5   6   7   8   9  10  11  12 \n",
       "1959  1   2   3   4   5   6   7   8   9  10  11  12 \n",
       "1960  1   2   3   4   5   6   7   8   9  10  11  12 "
      ]
     },
     "metadata": {},
     "output_type": "display_data"
    }
   ],
   "source": [
    "cycle(air_passengers)"
   ]
  },
  {
   "cell_type": "markdown",
   "metadata": {},
   "source": [
    "And checking the time series `frequency()` shows that the time series object is correctly configured."
   ]
  },
  {
   "cell_type": "code",
   "execution_count": 16,
   "metadata": {
    "scrolled": true
   },
   "outputs": [
    {
     "data": {
      "text/html": [
       "12"
      ],
      "text/latex": [
       "12"
      ],
      "text/markdown": [
       "12"
      ],
      "text/plain": [
       "[1] 12"
      ]
     },
     "metadata": {},
     "output_type": "display_data"
    }
   ],
   "source": [
    "frequency(air_passengers)"
   ]
  },
  {
   "cell_type": "markdown",
   "metadata": {},
   "source": [
    "### Check for missing values\n",
    "\n",
    "I can check the time series for missing values using the libraries we've used throughout the module. This can also be applied before the time series object is converted from a data frame."
   ]
  },
  {
   "cell_type": "code",
   "execution_count": 17,
   "metadata": {
    "scrolled": true
   },
   "outputs": [
    {
     "data": {
      "text/html": [
       "0"
      ],
      "text/latex": [
       "0"
      ],
      "text/markdown": [
       "0"
      ],
      "text/plain": [
       "[1] 0"
      ]
     },
     "metadata": {},
     "output_type": "display_data"
    }
   ],
   "source": [
    "# View the records with NA\n",
    "na_records <- air_passengers[!complete.cases(air_passengers)]\n",
    "sum(na_records)"
   ]
  },
  {
   "cell_type": "code",
   "execution_count": 18,
   "metadata": {
    "scrolled": false
   },
   "outputs": [
    {
     "data": {
      "image/png": "[encoded data removed]",
      "text/plain": [
       "Plot with title \"Air Passenger numbers from 1949 to 1961\""
      ]
     },
     "metadata": {
      "image/png": {
       "height": 360,
       "width": 840
      },
      "text/plain": {
       "height": 360,
       "width": 840
      }
     },
     "output_type": "display_data"
    }
   ],
   "source": [
    "# Use for jupyter notebook only\n",
    "options(repr.plot.width=14, repr.plot.height=6)\n",
    "\n",
    "# Show data using a plot() function\n",
    "plot(air_passengers,\n",
    "     xlab=\"Date\", \n",
    "     ylab = \"Passenger numbers (1000's)\",\n",
    "     main=\"Air Passenger numbers from 1949 to 1961\")\n",
    "# Add a straight line shwing the linear relationship\n",
    "# between passenger numbers and time\n",
    "abline(reg=lm(air_passengers~time(air_passengers)))"
   ]
  },
  {
   "cell_type": "markdown",
   "metadata": {},
   "source": [
    "We can examine the yearly trend within the data using the `aggregate()` function. \n",
    "\n",
    "The chart demonstrates that the year on year trend is that passengers have been increasing."
   ]
  },
  {
   "cell_type": "code",
   "execution_count": 19,
   "metadata": {},
   "outputs": [
    {
     "data": {
      "image/png": "[encoded data removed]",
      "text/plain": [
       "plot without title"
      ]
     },
     "metadata": {
      "image/png": {
       "height": 360,
       "width": 840
      },
      "text/plain": {
       "height": 360,
       "width": 840
      }
     },
     "output_type": "display_data"
    }
   ],
   "source": [
    "plot(aggregate(air_passengers,FUN=mean))"
   ]
  },
  {
   "cell_type": "markdown",
   "metadata": {},
   "source": [
    "And we can examine any seasonal effects within the data using a `boxplot()`."
   ]
  },
  {
   "cell_type": "code",
   "execution_count": 20,
   "metadata": {},
   "outputs": [
    {
     "data": {
      "image/png": "[encoded data removed]",
      "text/plain": [
       "Plot with title \"Monthly Air Passengers Boxplot from 1949 to 1961\""
      ]
     },
     "metadata": {
      "image/png": {
       "height": 360,
       "width": 840
      },
      "text/plain": {
       "height": 360,
       "width": 840
      }
     },
     "output_type": "display_data"
    }
   ],
   "source": [
    "boxplot(air_passengers ~ cycle(air_passengers),\n",
    "        xlab=\"Date\", \n",
    "        ylab = \"Passenger Numbers (1000's)\" ,\n",
    "        main =\"Monthly Air Passengers Boxplot from 1949 to 1961\")"
   ]
  },
  {
   "cell_type": "markdown",
   "metadata": {},
   "source": [
    "In the boxplot there are more passengers travelling in months 6 to 9 with higher means and higher variances than the other months. This indicates seasonality with a apparent cycle of 12 months. The rationale for this could be that more people take holidays and fly during the summer months in the USA."
   ]
  },
  {
   "cell_type": "markdown",
   "metadata": {},
   "source": [
    "## Multiplicative or additive model?\n",
    "\n",
    "It’s important to understand what the difference between a multiplicative time series and an additive one before we go any further.\n",
    "\n",
    "There are three components to a time series:<br>\n",
    "\n",
    " - trend how data changes overall<br>\n",
    " - seasonality how things change within a given period e.g. a year, month, week, day<br>\n",
    " - error/residual/irregular activity not explained by the trend or the seasonal value<br>\n",
    "\n",
    "How these three components interact determines the difference between a multiplicative and an additive time series.\n",
    "\n",
    "In **multiplicative time series**, the components multiply together to make the time series. If you have an increasing trend, the amplitude of seasonal activity increases. Everything becomes more exaggerated. This is common when you’re looking at web traffic.\n",
    "\n",
    "In **additive time series**, the components add together to make the time series. If you have an increasing trend, you still see roughly the same size peaks and troughs throughout the time series. This is often seen in indexed time series where the absolute value is growing but changes stay relative."
   ]
  },
  {
   "cell_type": "code",
   "execution_count": 21,
   "metadata": {},
   "outputs": [
    {
     "data": {
      "image/png": "[encoded data removed]",
      "text/plain": [
       "plot without title"
      ]
     },
     "metadata": {
      "image/png": {
       "height": 360,
       "width": 840
      },
      "text/plain": {
       "height": 360,
       "width": 840
      }
     },
     "output_type": "display_data"
    }
   ],
   "source": [
    "seasonal_decomposition <- stl(air_passengers, s.window=\"period\")\n",
    "plot(seasonal_decomposition)"
   ]
  },
  {
   "cell_type": "markdown",
   "metadata": {},
   "source": [
    "The `data` chart shows that the data appears to be multiplicative time series as the passenger numbers increase, it appears so does the pattern of seasonality. \n",
    "\n",
    "In the earlier `plot()` function we could see that there is a trend component within the air passenger data.\n",
    "\n",
    "There appears to be a seasonal component which has a cycle less than 12 months.\n",
    "\n",
    "The variance in the data keeps on increasing with time.\n",
    "\n",
    "These points indicate that the data is multplicative. They also indicate that the data contains both trend and seasonal elements.\n",
    "\n",
    "We can see this from the `boxplot()` and `aggregate` charts (above)."
   ]
  },
  {
   "cell_type": "markdown",
   "metadata": {},
   "source": [
    "## Test the seasonality of the time series\n",
    "\n",
    "A stationary time series has conditions where the mean, variance and covariance are not functions of time. It is one whose properties do not depend on the time at which the series is observed. Thus, time series with **trends**, or with **seasonality**, are **not stationary**. Both the trend and seasonality will affect the value of the time series at different times. \n",
    "\n",
    "A white noise series is stationary — it does not matter when you observe it, it should look much the same at any point in time.\n",
    "\n",
    "Some cases can be confusing — a time series with cyclic behaviour (but with no trend or seasonality) is stationary. The cycles are not of a fixed length, so before we observe the series we cannot be sure where the peaks and troughs of the cycles will be.\n",
    "\n",
    "In general, a stationary time series will have no predictable patterns in the long-term. Time plots will show the series to be roughly horizontal (although some cyclic behaviour is possible), with constant variance.\n",
    "\n",
    "The time series must be stationary before it can be used to fit an arima model. We will use two methods to test the stationarity of the time series object."
   ]
  },
  {
   "cell_type": "markdown",
   "metadata": {},
   "source": [
    "#### Method 1: Test stationarity of the time series (ADF)\n",
    "\n",
    "In order to test the stationarity of the time series, let’s run the **Augmented Dickey-Fuller** Test using the `adf.test()` function from the `tseries` package.\n",
    "\n",
    "First I'll define the hypothesis test:\n",
    "\n",
    "The null hypothesis H<sub>0</sub> : the time series is non stationary<br>\n",
    "The alternative hypothesis H<sub>A</sub> : the time series is stationary\n",
    "\n",
    "The `adf.test()` function uses "
   ]
  },
  {
   "cell_type": "code",
   "execution_count": 22,
   "metadata": {},
   "outputs": [
    {
     "data": {
      "text/html": [
       "5"
      ],
      "text/latex": [
       "5"
      ],
      "text/markdown": [
       "5"
      ],
      "text/plain": [
       "[1] 5"
      ]
     },
     "metadata": {},
     "output_type": "display_data"
    }
   ],
   "source": [
    "library(tseries)\n",
    "suggested_k <- trunc((length(air_passengers)-1)^(1/3))\n",
    "suggested_k"
   ]
  },
  {
   "cell_type": "code",
   "execution_count": 23,
   "metadata": {},
   "outputs": [
    {
     "name": "stderr",
     "output_type": "stream",
     "text": [
      "Warning message in adf.test(air_passengers, alternative = \"stationary\"):\n",
      "\"p-value smaller than printed p-value\"\n"
     ]
    },
    {
     "data": {
      "text/plain": [
       "\n",
       "\tAugmented Dickey-Fuller Test\n",
       "\n",
       "data:  air_passengers\n",
       "Dickey-Fuller = -7.3186, Lag order = 5, p-value = 0.01\n",
       "alternative hypothesis: stationary\n"
      ]
     },
     "metadata": {},
     "output_type": "display_data"
    }
   ],
   "source": [
    "adf.test(air_passengers, alternative = \"stationary\")"
   ]
  },
  {
   "cell_type": "markdown",
   "metadata": {},
   "source": [
    "The value of `k` in the `adf.test()` function represents the lag order to calculate the test statistic. The default k value is computed as `trunc((length(x)-1)^(1/3))`  which corresponds to the suggested upper bound on the rate at which the number of lags, k, should be made to grow with the sample size for the general ARMA(p,q) setup\n",
    "\n",
    "The output for `k` (above) suggests that `k=5` should be used. This essentially is examining the previous 5 months within the `air_passengers` dataset which isnt accounting for the entire year of each cycle of the data. A value of `k=12` is more reasonable.\n",
    "\n",
    "In this code I've modified the value of k to 12 to account for the yearly cycle within the dataset."
   ]
  },
  {
   "cell_type": "markdown",
   "metadata": {},
   "source": [
    "The p-value is less than 5% (p <0.05), and we have strong evidence against the null hypothesis, so we **reject the null hypothesis** and choose the alternative hypothesis that the time series is stationary.\n",
    "\n",
    "But this isn’t correct. We’ve run this test using the **default** lag order of 5. Since this is monthly data, we need to expand the test’s lag visibility to **12** so it can see the seasonality. \n",
    "\n",
    "Now I'll re-run the test with the `k` value set to 12 to account for \n",
    "\n",
    "**Note:** if we had to **difference** the dataset, we would use the `ndiffs()` function including the number of lags to difference it by."
   ]
  },
  {
   "cell_type": "code",
   "execution_count": 24,
   "metadata": {
    "scrolled": true
   },
   "outputs": [
    {
     "data": {
      "text/plain": [
       "\n",
       "\tAugmented Dickey-Fuller Test\n",
       "\n",
       "data:  air_passengers\n",
       "Dickey-Fuller = -1.5094, Lag order = 12, p-value = 0.7807\n",
       "alternative hypothesis: stationary\n"
      ]
     },
     "metadata": {},
     "output_type": "display_data"
    }
   ],
   "source": [
    "adf.test(air_passengers, alternative = \"stationary\", k = 12)"
   ]
  },
  {
   "cell_type": "markdown",
   "metadata": {},
   "source": [
    "The p-value is now greater than 5% (p <0.78), and we have strong evidence to accept the null hypothesis, so we can assume that the time series is not stationary."
   ]
  },
  {
   "cell_type": "markdown",
   "metadata": {},
   "source": [
    "#### Method 2 : Test stationarity of the time series (Autocorrelation)\n",
    "\n",
    "Another way to test for stationarity is to use autocorrelation. We can use the autocorrelation function `acf()` from the base stats R package. \n",
    "\n",
    "This function plots the correlation between a series and its lags ie previous observations with a 95% confidence interval in blue. If the autocorrelation crosses the dashed blue line, it means that specific lag is significantly correlated with the current series.\n",
    "\n",
    "Autocorrelation refers to how correlated a time series is with its past values whereas the ACF is the plot used to see the correlation between the points, up to and including the lag unit. In ACF, the correlation coefficient is in the x-axis whereas the number of lags is shown in the y-axis."
   ]
  },
  {
   "cell_type": "code",
   "execution_count": 25,
   "metadata": {},
   "outputs": [
    {
     "data": {
      "image/png": "[encoded data removed]",
      "text/plain": [
       "Plot with title \"Series  air_passengers\""
      ]
     },
     "metadata": {
      "image/png": {
       "height": 360,
       "width": 840
      },
      "text/plain": {
       "height": 360,
       "width": 840
      }
     },
     "output_type": "display_data"
    }
   ],
   "source": [
    "library(forecast)\n",
    "acf(air_passengers)"
   ]
  },
  {
   "cell_type": "code",
   "execution_count": 26,
   "metadata": {},
   "outputs": [
    {
     "data": {
      "image/png": "[encoded data removed]",
      "text/plain": [
       "Plot with title \"Series  air_passengers\""
      ]
     },
     "metadata": {
      "image/png": {
       "height": 360,
       "width": 840
      },
      "text/plain": {
       "height": 360,
       "width": 840
      }
     },
     "output_type": "display_data"
    }
   ],
   "source": [
    "pacf(air_passengers)"
   ]
  },
  {
   "cell_type": "markdown",
   "metadata": {},
   "source": [
    "From the ACF plot we can see that there's maximum peaks (lags) in the chart at the first and 12th month. This therefore indicates a positive relationship within the 12 month cycle. This indicates there's seasonality within the time series and it needs to be removed."
   ]
  },
  {
   "cell_type": "markdown",
   "metadata": {},
   "source": [
    "## Differencing\n",
    "\n",
    "Transformations such as **logarithms** can help to stabilise the variance of a time series. Differencing can help stabilise the **mean** of a time series by removing changes in the level of a time series, and therefore eliminating (or reducing) trend and seasonality.\n",
    "\n",
    "### Seasonal differences\n",
    "A seasonal difference is the difference between an observation and the previous observation from the same season. These are also called **lag-m differences**, as we subtract the observation after a lag of m periods.\n",
    "\n",
    "To distinguish seasonal differences from ordinary differences, we sometimes refer to ordinary differences as **first differences**, meaning differences at lag 1.\n",
    "\n",
    "When both seasonal and first differences are applied, it makes no difference which is done first as the result will be the same. However, if the data have a strong seasonal pattern, I recommend that seasonal differencing be done first, because the resulting series will sometimes be stationary and there will be no need for a further first difference. If first differencing is done first, there will still be seasonality present.\n",
    "\n",
    "It is important that if differencing is used, the differences are interpretable. First differences are the change between one observation and the next. Seasonal differences are the change between one year to the next. Other lags are unlikely to make much interpretable sense and should be avoided.\n",
    "\n",
    "As well as looking at the time plot of the data, the **ACF plot** is also useful for identifying non-stationary time series. \n",
    "\n",
    "**Note:** For a stationary time series, the ACF will drop to zero relatively quickly, while the ACF of non-stationary data decreases slowly. Also, for non-stationary data, the value of r<sub>1</sub> is often large and positive.\n",
    "\n",
    "The ACF plot indicates the data is non-stationary.\n",
    "\n",
    "We can use the `nsdiffs()` to examine whether seasonal differencing is required, and the `ndiffs()` function to indicate the number of differences that need to be carried out on the data. \n",
    "\n",
    "See https://medium.com/wwblog/stationarity-testing-using-the-augmented-dickey-fuller-test-8cf7f34f4844 "
   ]
  },
  {
   "cell_type": "code",
   "execution_count": 27,
   "metadata": {},
   "outputs": [
    {
     "data": {
      "text/html": [
       "1"
      ],
      "text/latex": [
       "1"
      ],
      "text/markdown": [
       "1"
      ],
      "text/plain": [
       "[1] 1"
      ]
     },
     "metadata": {},
     "output_type": "display_data"
    }
   ],
   "source": [
    "library(forecast)\n",
    "nsdiffs(air_passengers)"
   ]
  },
  {
   "cell_type": "markdown",
   "metadata": {},
   "source": [
    "No seasonal differences are suggested if FS<0.64, otherwise one seasonal difference is suggested.\n",
    "\n",
    "In this example, the output suggests that 1 difference is required to make the `air_passengers` data stationary. \n",
    "\n",
    "There's unequal variances in the data. We can remove it using the `diff()` of the data."
   ]
  },
  {
   "cell_type": "code",
   "execution_count": 28,
   "metadata": {},
   "outputs": [],
   "source": [
    "# Note these are the same\n",
    "# diff(x, differences = 2)\n",
    "# and diff(diff(x))\n",
    "diff_air_passengers <- diff(air_passengers, lag = 12, differences = 2)"
   ]
  },
  {
   "cell_type": "markdown",
   "metadata": {},
   "source": [
    "Lets see what that has done to the data."
   ]
  },
  {
   "cell_type": "code",
   "execution_count": 29,
   "metadata": {},
   "outputs": [
    {
     "data": {
      "image/png": "[encoded data removed]",
      "text/plain": [
       "Plot with title \"Differenced Air Passengers dataset\""
      ]
     },
     "metadata": {
      "image/png": {
       "height": 600,
       "width": 960
      },
      "text/plain": {
       "height": 600,
       "width": 960
      }
     },
     "output_type": "display_data"
    }
   ],
   "source": [
    "# Used for Jupyter notebook only\n",
    "options(repr.plot.width=16, repr.plot.height=10)\n",
    "# Show both side-by-side for comparison\n",
    "opar <- par(no.readonly=TRUE)\n",
    "par(mfrow=c(1,2))\n",
    "plot(air_passengers, main = \"Original Air Passengers dataset\")\n",
    "plot(diff_air_passengers, main = \"Differenced Air Passengers dataset\")\n",
    "par(opar)"
   ]
  },
  {
   "cell_type": "markdown",
   "metadata": {},
   "source": [
    "We can check whether the `diff()` function as now removed the stationarity using the `nsdiffs()` function again."
   ]
  },
  {
   "cell_type": "code",
   "execution_count": 30,
   "metadata": {},
   "outputs": [
    {
     "data": {
      "text/html": [
       "0"
      ],
      "text/latex": [
       "0"
      ],
      "text/markdown": [
       "0"
      ],
      "text/plain": [
       "[1] 0"
      ]
     },
     "metadata": {},
     "output_type": "display_data"
    }
   ],
   "source": [
    "nsdiffs(diff_air_passengers)"
   ]
  },
  {
   "cell_type": "markdown",
   "metadata": {},
   "source": [
    "We need to examine whether there's a trend in the data.\n",
    "\n",
    "Recall the hypothesis tests:\n",
    "\n",
    "The null hypothesis H0 : the time series is non stationary<br>\n",
    "The alternative hypothesis HA : the time series is stationary<br>"
   ]
  },
  {
   "cell_type": "markdown",
   "metadata": {},
   "source": [
    "There's some missing values in the data caused by the differencing process.\n",
    "\n",
    "Let's examine these."
   ]
  },
  {
   "cell_type": "code",
   "execution_count": 31,
   "metadata": {},
   "outputs": [],
   "source": [
    "decompose_air_passengers <- decompose(air_passengers, \"multiplicative\")"
   ]
  },
  {
   "cell_type": "code",
   "execution_count": 32,
   "metadata": {},
   "outputs": [
    {
     "data": {
      "text/html": [
       "<table>\n",
       "<caption>A Time Series: 12 × 12</caption>\n",
       "<thead>\n",
       "\t<tr><th></th><th scope=col>Jan</th><th scope=col>Feb</th><th scope=col>Mar</th><th scope=col>Apr</th><th scope=col>May</th><th scope=col>Jun</th><th scope=col>Jul</th><th scope=col>Aug</th><th scope=col>Sep</th><th scope=col>Oct</th><th scope=col>Nov</th><th scope=col>Dec</th></tr>\n",
       "</thead>\n",
       "<tbody>\n",
       "\t<tr><th scope=row>1949</th><td>       NA</td><td>       NA</td><td>       NA</td><td>       NA</td><td>       NA</td><td>       NA</td><td>0.9516643</td><td>0.9534014</td><td>1.0022198</td><td>1.0040278</td><td>1.0062701</td><td>1.0118119</td></tr>\n",
       "\t<tr><th scope=row>1950</th><td>0.9626030</td><td>1.0714668</td><td>1.0374474</td><td>1.0140476</td><td>0.9269030</td><td>0.9650406</td><td>0.9835566</td><td>0.9733720</td><td>1.0225047</td><td>0.9721928</td><td>0.9389527</td><td>1.0067914</td></tr>\n",
       "\t<tr><th scope=row>1951</th><td>1.0138446</td><td>1.0640180</td><td>1.0918541</td><td>1.0176651</td><td>1.0515825</td><td>0.9460444</td><td>0.9474041</td><td>0.9397599</td><td>0.9888637</td><td>0.9938809</td><td>1.0235337</td><td>1.0250824</td></tr>\n",
       "\t<tr><th scope=row>1952</th><td>1.0258814</td><td>1.0939696</td><td>1.0134734</td><td>0.9695596</td><td>0.9632673</td><td>1.0003735</td><td>0.9468562</td><td>0.9931171</td><td>0.9746302</td><td>1.0046687</td><td>1.0202797</td><td>1.0115407</td></tr>\n",
       "\t<tr><th scope=row>1953</th><td>0.9976684</td><td>1.0151646</td><td>1.0604644</td><td>1.0802327</td><td>1.0413329</td><td>0.9718056</td><td>0.9551933</td><td>0.9894989</td><td>0.9934337</td><td>1.0192680</td><td>1.0009392</td><td>0.9915039</td></tr>\n",
       "\t<tr><th scope=row>1954</th><td>0.9829785</td><td>0.9232032</td><td>1.0044417</td><td>0.9943899</td><td>1.0119479</td><td>0.9978740</td><td>1.0237753</td><td>0.9845184</td><td>0.9881036</td><td>0.9927613</td><td>0.9995143</td><td>0.9908692</td></tr>\n",
       "\t<tr><th scope=row>1955</th><td>1.0154046</td><td>0.9888241</td><td>0.9775844</td><td>1.0015732</td><td>0.9878755</td><td>1.0039635</td><td>1.0385512</td><td>0.9831117</td><td>1.0032501</td><td>1.0003084</td><td>0.9827720</td><td>1.0125535</td></tr>\n",
       "\t<tr><th scope=row>1956</th><td>1.0066157</td><td>0.9970250</td><td>0.9876248</td><td>0.9968224</td><td>0.9985644</td><td>1.0275560</td><td>1.0217685</td><td>1.0004765</td><td>1.0008730</td><td>0.9835071</td><td>0.9932761</td><td>0.9894251</td></tr>\n",
       "\t<tr><th scope=row>1957</th><td>0.9937293</td><td>0.9649918</td><td>0.9881769</td><td>0.9867637</td><td>0.9924177</td><td>1.0328601</td><td>1.0261250</td><td>1.0312668</td><td>1.0236147</td><td>1.0108432</td><td>1.0212995</td><td>1.0005263</td></tr>\n",
       "\t<tr><th scope=row>1958</th><td>0.9954212</td><td>0.9522762</td><td>0.9469115</td><td>0.9383993</td><td>0.9715785</td><td>1.0261340</td><td>1.0483841</td><td>1.0789695</td><td>0.9856540</td><td>0.9977971</td><td>0.9802940</td><td>0.9405687</td></tr>\n",
       "\t<tr><th scope=row>1959</th><td>0.9825176</td><td>0.9505736</td><td>0.9785278</td><td>0.9746440</td><td>1.0177637</td><td>0.9968613</td><td>1.0373136</td><td>1.0531001</td><td>0.9974447</td><td>1.0013371</td><td>1.0134608</td><td>0.9999192</td></tr>\n",
       "\t<tr><th scope=row>1960</th><td>1.0039279</td><td>0.9590794</td><td>0.8940857</td><td>1.0064948</td><td>1.0173588</td><td>1.0120790</td><td>       NA</td><td>       NA</td><td>       NA</td><td>       NA</td><td>       NA</td><td>       NA</td></tr>\n",
       "</tbody>\n",
       "</table>\n"
      ],
      "text/latex": [
       "A Time Series: 12 × 12\n",
       "\\begin{tabular}{r|llllllllllll}\n",
       "  & Jan & Feb & Mar & Apr & May & Jun & Jul & Aug & Sep & Oct & Nov & Dec\\\\\n",
       "\\hline\n",
       "\t1949 &        NA &        NA &        NA &        NA &        NA &        NA & 0.9516643 & 0.9534014 & 1.0022198 & 1.0040278 & 1.0062701 & 1.0118119\\\\\n",
       "\t1950 & 0.9626030 & 1.0714668 & 1.0374474 & 1.0140476 & 0.9269030 & 0.9650406 & 0.9835566 & 0.9733720 & 1.0225047 & 0.9721928 & 0.9389527 & 1.0067914\\\\\n",
       "\t1951 & 1.0138446 & 1.0640180 & 1.0918541 & 1.0176651 & 1.0515825 & 0.9460444 & 0.9474041 & 0.9397599 & 0.9888637 & 0.9938809 & 1.0235337 & 1.0250824\\\\\n",
       "\t1952 & 1.0258814 & 1.0939696 & 1.0134734 & 0.9695596 & 0.9632673 & 1.0003735 & 0.9468562 & 0.9931171 & 0.9746302 & 1.0046687 & 1.0202797 & 1.0115407\\\\\n",
       "\t1953 & 0.9976684 & 1.0151646 & 1.0604644 & 1.0802327 & 1.0413329 & 0.9718056 & 0.9551933 & 0.9894989 & 0.9934337 & 1.0192680 & 1.0009392 & 0.9915039\\\\\n",
       "\t1954 & 0.9829785 & 0.9232032 & 1.0044417 & 0.9943899 & 1.0119479 & 0.9978740 & 1.0237753 & 0.9845184 & 0.9881036 & 0.9927613 & 0.9995143 & 0.9908692\\\\\n",
       "\t1955 & 1.0154046 & 0.9888241 & 0.9775844 & 1.0015732 & 0.9878755 & 1.0039635 & 1.0385512 & 0.9831117 & 1.0032501 & 1.0003084 & 0.9827720 & 1.0125535\\\\\n",
       "\t1956 & 1.0066157 & 0.9970250 & 0.9876248 & 0.9968224 & 0.9985644 & 1.0275560 & 1.0217685 & 1.0004765 & 1.0008730 & 0.9835071 & 0.9932761 & 0.9894251\\\\\n",
       "\t1957 & 0.9937293 & 0.9649918 & 0.9881769 & 0.9867637 & 0.9924177 & 1.0328601 & 1.0261250 & 1.0312668 & 1.0236147 & 1.0108432 & 1.0212995 & 1.0005263\\\\\n",
       "\t1958 & 0.9954212 & 0.9522762 & 0.9469115 & 0.9383993 & 0.9715785 & 1.0261340 & 1.0483841 & 1.0789695 & 0.9856540 & 0.9977971 & 0.9802940 & 0.9405687\\\\\n",
       "\t1959 & 0.9825176 & 0.9505736 & 0.9785278 & 0.9746440 & 1.0177637 & 0.9968613 & 1.0373136 & 1.0531001 & 0.9974447 & 1.0013371 & 1.0134608 & 0.9999192\\\\\n",
       "\t1960 & 1.0039279 & 0.9590794 & 0.8940857 & 1.0064948 & 1.0173588 & 1.0120790 &        NA &        NA &        NA &        NA &        NA &        NA\\\\\n",
       "\\end{tabular}\n"
      ],
      "text/markdown": [
       "\n",
       "A Time Series: 12 × 12\n",
       "\n",
       "| <!--/--> | Jan | Feb | Mar | Apr | May | Jun | Jul | Aug | Sep | Oct | Nov | Dec |\n",
       "|---|---|---|---|---|---|---|---|---|---|---|---|---|\n",
       "| 1949 |        NA |        NA |        NA |        NA |        NA |        NA | 0.9516643 | 0.9534014 | 1.0022198 | 1.0040278 | 1.0062701 | 1.0118119 |\n",
       "| 1950 | 0.9626030 | 1.0714668 | 1.0374474 | 1.0140476 | 0.9269030 | 0.9650406 | 0.9835566 | 0.9733720 | 1.0225047 | 0.9721928 | 0.9389527 | 1.0067914 |\n",
       "| 1951 | 1.0138446 | 1.0640180 | 1.0918541 | 1.0176651 | 1.0515825 | 0.9460444 | 0.9474041 | 0.9397599 | 0.9888637 | 0.9938809 | 1.0235337 | 1.0250824 |\n",
       "| 1952 | 1.0258814 | 1.0939696 | 1.0134734 | 0.9695596 | 0.9632673 | 1.0003735 | 0.9468562 | 0.9931171 | 0.9746302 | 1.0046687 | 1.0202797 | 1.0115407 |\n",
       "| 1953 | 0.9976684 | 1.0151646 | 1.0604644 | 1.0802327 | 1.0413329 | 0.9718056 | 0.9551933 | 0.9894989 | 0.9934337 | 1.0192680 | 1.0009392 | 0.9915039 |\n",
       "| 1954 | 0.9829785 | 0.9232032 | 1.0044417 | 0.9943899 | 1.0119479 | 0.9978740 | 1.0237753 | 0.9845184 | 0.9881036 | 0.9927613 | 0.9995143 | 0.9908692 |\n",
       "| 1955 | 1.0154046 | 0.9888241 | 0.9775844 | 1.0015732 | 0.9878755 | 1.0039635 | 1.0385512 | 0.9831117 | 1.0032501 | 1.0003084 | 0.9827720 | 1.0125535 |\n",
       "| 1956 | 1.0066157 | 0.9970250 | 0.9876248 | 0.9968224 | 0.9985644 | 1.0275560 | 1.0217685 | 1.0004765 | 1.0008730 | 0.9835071 | 0.9932761 | 0.9894251 |\n",
       "| 1957 | 0.9937293 | 0.9649918 | 0.9881769 | 0.9867637 | 0.9924177 | 1.0328601 | 1.0261250 | 1.0312668 | 1.0236147 | 1.0108432 | 1.0212995 | 1.0005263 |\n",
       "| 1958 | 0.9954212 | 0.9522762 | 0.9469115 | 0.9383993 | 0.9715785 | 1.0261340 | 1.0483841 | 1.0789695 | 0.9856540 | 0.9977971 | 0.9802940 | 0.9405687 |\n",
       "| 1959 | 0.9825176 | 0.9505736 | 0.9785278 | 0.9746440 | 1.0177637 | 0.9968613 | 1.0373136 | 1.0531001 | 0.9974447 | 1.0013371 | 1.0134608 | 0.9999192 |\n",
       "| 1960 | 1.0039279 | 0.9590794 | 0.8940857 | 1.0064948 | 1.0173588 | 1.0120790 |        NA |        NA |        NA |        NA |        NA |        NA |\n",
       "\n"
      ],
      "text/plain": [
       "     Jan       Feb       Mar       Apr       May       Jun       Jul      \n",
       "1949        NA        NA        NA        NA        NA        NA 0.9516643\n",
       "1950 0.9626030 1.0714668 1.0374474 1.0140476 0.9269030 0.9650406 0.9835566\n",
       "1951 1.0138446 1.0640180 1.0918541 1.0176651 1.0515825 0.9460444 0.9474041\n",
       "1952 1.0258814 1.0939696 1.0134734 0.9695596 0.9632673 1.0003735 0.9468562\n",
       "1953 0.9976684 1.0151646 1.0604644 1.0802327 1.0413329 0.9718056 0.9551933\n",
       "1954 0.9829785 0.9232032 1.0044417 0.9943899 1.0119479 0.9978740 1.0237753\n",
       "1955 1.0154046 0.9888241 0.9775844 1.0015732 0.9878755 1.0039635 1.0385512\n",
       "1956 1.0066157 0.9970250 0.9876248 0.9968224 0.9985644 1.0275560 1.0217685\n",
       "1957 0.9937293 0.9649918 0.9881769 0.9867637 0.9924177 1.0328601 1.0261250\n",
       "1958 0.9954212 0.9522762 0.9469115 0.9383993 0.9715785 1.0261340 1.0483841\n",
       "1959 0.9825176 0.9505736 0.9785278 0.9746440 1.0177637 0.9968613 1.0373136\n",
       "1960 1.0039279 0.9590794 0.8940857 1.0064948 1.0173588 1.0120790        NA\n",
       "     Aug       Sep       Oct       Nov       Dec      \n",
       "1949 0.9534014 1.0022198 1.0040278 1.0062701 1.0118119\n",
       "1950 0.9733720 1.0225047 0.9721928 0.9389527 1.0067914\n",
       "1951 0.9397599 0.9888637 0.9938809 1.0235337 1.0250824\n",
       "1952 0.9931171 0.9746302 1.0046687 1.0202797 1.0115407\n",
       "1953 0.9894989 0.9934337 1.0192680 1.0009392 0.9915039\n",
       "1954 0.9845184 0.9881036 0.9927613 0.9995143 0.9908692\n",
       "1955 0.9831117 1.0032501 1.0003084 0.9827720 1.0125535\n",
       "1956 1.0004765 1.0008730 0.9835071 0.9932761 0.9894251\n",
       "1957 1.0312668 1.0236147 1.0108432 1.0212995 1.0005263\n",
       "1958 1.0789695 0.9856540 0.9977971 0.9802940 0.9405687\n",
       "1959 1.0531001 0.9974447 1.0013371 1.0134608 0.9999192\n",
       "1960        NA        NA        NA        NA        NA"
      ]
     },
     "metadata": {},
     "output_type": "display_data"
    }
   ],
   "source": [
    "decompose_air_passengers$random"
   ]
  },
  {
   "cell_type": "markdown",
   "metadata": {},
   "source": [
    "If we run the `adf.test()` function onthe data with missing values, this provides an inaccurate output and suggests the data needs further stationarity."
   ]
  },
  {
   "cell_type": "code",
   "execution_count": 33,
   "metadata": {},
   "outputs": [
    {
     "data": {
      "text/plain": [
       "\n",
       "\tAugmented Dickey-Fuller Test\n",
       "\n",
       "data:  diff_air_passengers\n",
       "Dickey-Fuller = -2.7735, Lag order = 12, p-value = 0.2553\n",
       "alternative hypothesis: stationary\n"
      ]
     },
     "metadata": {},
     "output_type": "display_data"
    }
   ],
   "source": [
    "adf.test(diff_air_passengers, alternative = \"stationary\", k = 12)"
   ]
  },
  {
   "cell_type": "markdown",
   "metadata": {},
   "source": [
    "The `acf()` plot suggests this too."
   ]
  },
  {
   "cell_type": "code",
   "execution_count": 34,
   "metadata": {},
   "outputs": [
    {
     "data": {
      "image/png": "[encoded data removed]",
      "text/plain": [
       "Plot with title \"Series  diff_air_passengers\""
      ]
     },
     "metadata": {
      "image/png": {
       "height": 600,
       "width": 960
      },
      "text/plain": {
       "height": 600,
       "width": 960
      }
     },
     "output_type": "display_data"
    }
   ],
   "source": [
    "acf(diff_air_passengers)"
   ]
  },
  {
   "cell_type": "markdown",
   "metadata": {},
   "source": [
    "However the issue is caused by the misisng values. Let's extratc out these missign values and re-run the tests."
   ]
  },
  {
   "cell_type": "code",
   "execution_count": 35,
   "metadata": {},
   "outputs": [
    {
     "data": {
      "image/png": "[encoded data removed]",
      "text/plain": [
       "Plot with title \"Series  decompose_air_passengers$random[7:138]\""
      ]
     },
     "metadata": {
      "image/png": {
       "height": 600,
       "width": 960
      },
      "text/plain": {
       "height": 600,
       "width": 960
      }
     },
     "output_type": "display_data"
    }
   ],
   "source": [
    "acf(decompose_air_passengers$random[7:138])"
   ]
  },
  {
   "cell_type": "markdown",
   "metadata": {},
   "source": [
    "We can see that the acf of the residuals is centered around 0."
   ]
  },
  {
   "cell_type": "code",
   "execution_count": 36,
   "metadata": {},
   "outputs": [
    {
     "ename": "ERROR",
     "evalue": "Error in complete.cases(object): not all arguments have the same length\n",
     "output_type": "error",
     "traceback": [
      "Error in complete.cases(object): not all arguments have the same length\nTraceback:\n",
      "1. pacf(acf(decompose_air_passengers$random[7:138]), plot = FALSE)",
      "2. pacf.default(acf(decompose_air_passengers$random[7:138]), plot = FALSE)",
      "3. na.action(as.ts(x))",
      "4. na.fail.default(as.ts(x))",
      "5. complete.cases(object)"
     ]
    },
    {
     "data": {
      "image/png": "[encoded data removed]",
      "text/plain": [
       "Plot with title \"Series  decompose_air_passengers$random[7:138]\""
      ]
     },
     "metadata": {
      "image/png": {
       "height": 600,
       "width": 960
      },
      "text/plain": {
       "height": 600,
       "width": 960
      }
     },
     "output_type": "display_data"
    }
   ],
   "source": [
    "pacf(acf(decompose_air_passengers$random[7:138]), plot = FALSE)"
   ]
  },
  {
   "cell_type": "markdown",
   "metadata": {},
   "source": [
    "And rerunning the `adf.test()` shows the p-value is in agreement with these findings (p < 0.05). This shows that we have strong evidence against the null hypothesis, so we reject the null hypothesis and choose the alternative hypothesis that the time series is stationary."
   ]
  },
  {
   "cell_type": "code",
   "execution_count": 37,
   "metadata": {},
   "outputs": [
    {
     "data": {
      "text/plain": [
       "\n",
       "\tAugmented Dickey-Fuller Test\n",
       "\n",
       "data:  decompose_air_passengers$random[7:138]\n",
       "Dickey-Fuller = -3.684, Lag order = 12, p-value = 0.02842\n",
       "alternative hypothesis: stationary\n"
      ]
     },
     "metadata": {},
     "output_type": "display_data"
    }
   ],
   "source": [
    "adf.test(decompose_air_passengers$random[7:138], alternative = \"stationary\", k = 12)"
   ]
  },
  {
   "cell_type": "markdown",
   "metadata": {},
   "source": [
    "## Decompose( ) and STL(): functions\n",
    "\n",
    "We can use a package to extract all the data using th `decompose()` and `stl()` functions in R."
   ]
  },
  {
   "cell_type": "code",
   "execution_count": 38,
   "metadata": {},
   "outputs": [
    {
     "data": {
      "image/png": "[encoded data removed]",
      "text/plain": [
       "plot without title"
      ]
     },
     "metadata": {
      "image/png": {
       "height": 600,
       "width": 960
      },
      "text/plain": {
       "height": 600,
       "width": 960
      }
     },
     "output_type": "display_data"
    }
   ],
   "source": [
    "seasonal_decomposition <- stl(air_passengers, s.window=\"period\")\n",
    "plot(seasonal_decomposition)"
   ]
  },
  {
   "cell_type": "markdown",
   "metadata": {},
   "source": [
    "## ARIMA models\n",
    "\n",
    "Normally in an ARIMA model, we make use of either the AR term or the MA term. We use both of these terms only on rare occasions. We use the **ACF** plot to decide which one of these terms we would use for our time series.\n",
    "\n",
    "If there is a Positive autocorrelation in the ACF plot at lag 1 then we use the AR model. If there is a Negative autocorrelation at lag 1 then we use the MA model.\n",
    "\n",
    "In the `air passengers` dataset there is a positive correlation at lag 1, so we'll use the AR model. **Probably AR(0)**.\n",
    "\n",
    "After plotting the ACF plot we move to Partial Autocorrelation Function plots (PACF). A partial autocorrelation is a summary of the relationship between an observation in a time series with observations at prior time steps with the relationships of intervening observations removed.\n",
    "\n",
    "If the PACF plot drops off at lag n, then use an AR(n) model and if the drop in PACF is more gradual then we use the MA term.\n",
    "\n",
    "The PACF drops off at lag 1 - so we use the AR(1) model.\n",
    "\n",
    "The value of **d** should be **1** as we've had to implement a lag of **1** to the data.\n",
    "\n",
    "Therefore it seems that the best model should be either ARIMA(1,1,0) or ARIMA(0,1,1).\n",
    "\n",
    "We can evaluate the best model by evaluating the model with least AIC and BIC values.\n",
    "\n",
    "## Seasonal ARIMA\n",
    "\n",
    "As the name suggests, this model is used when the time series exhibits seasonality. This model is similar to ARIMA models, we just have to add in a few parameters to account for the seasons\n",
    "\n",
    "We write SARIMA as\n",
    "\n",
    "ARIMA(p,d,q)(P, D, Q)m,\n",
    "\n",
    "    p — the number of autoregressive\n",
    "    d — degree of differencing\n",
    "    q — the number of moving average terms\n",
    "    m — refers to the number of periods in each season\n",
    "    (P, D, Q )— represents the (p,d,q) for the seasonal part of the time series\n",
    "\n",
    "Seasonal differencing takes into account the seasons and differences the current value and it’s value in the previous season eg: Difference for the month may would be value in May 2018 — value in may 2017.\n",
    "\n",
    "    In Purely seasonal AR model, ACF decays slowly while PACF cuts off to zero\n",
    "    AR models are used when seasonal auto-correlation is positive\n",
    "    In Purely seasonal MA model, ACF cuts off to zero and vice versa\n",
    "    MA models are used when seasonal auto-correlation is negative\n",
    "    \n",
    "The seasonal part of the model consists of terms that are similar to the non-seasonal components of the model, but involve backshifts of the seasonal period. \n",
    "\n",
    "The seasonal part of an AR or MA model will be seen in the seasonal lags of the PACF and ACF.<br> \n",
    "\n",
    "For example, an **ARIMA(0,0,0)(0,0,1)12** model will show:\n",
    "\n",
    " - a spike at lag 12 in the ACF but no other significant spikes;\n",
    " - exponential decay in the seasonal lags of the PACF (i.e., at lags 12, 24, 36, …).\n",
    "\n",
    "Similarly, an **ARIMA(0,0,0)(1,0,0)12** model will show:\n",
    "\n",
    " - exponential decay in the seasonal lags of the ACF;\n",
    " - a single significant spike at lag 12 in the PACF.\n",
    "\n",
    "In considering the appropriate seasonal orders for a seasonal ARIMA model, restrict attention to the seasonal lags. "
   ]
  },
  {
   "cell_type": "markdown",
   "metadata": {},
   "source": [
    "## Fitting an ARIMA model"
   ]
  },
  {
   "cell_type": "markdown",
   "metadata": {},
   "source": [
    "Lets build a seasonal ARIMA model."
   ]
  },
  {
   "cell_type": "code",
   "execution_count": 39,
   "metadata": {},
   "outputs": [
    {
     "data": {
      "text/plain": [
       "\n",
       "Call:\n",
       "arima(x = air_passengers, order = c(0, 1, 1), seasonal = list(order = c(0, 1, \n",
       "    1), period = 12))\n",
       "\n",
       "Coefficients:\n",
       "          ma1     sma1\n",
       "      -0.3087  -0.1074\n",
       "s.e.   0.0890   0.0828\n",
       "\n",
       "sigma^2 estimated as 135.4:  log likelihood = -507.5,  aic = 1021"
      ]
     },
     "metadata": {},
     "output_type": "display_data"
    }
   ],
   "source": [
    "fit <- arima(air_passengers, \n",
    "             c(0,1,1), \n",
    "             seasonal = list(order = c(0,1,1), \n",
    "                             period = 12))\n",
    "fit"
   ]
  },
  {
   "cell_type": "markdown",
   "metadata": {},
   "source": [
    "## Generate forecasts\n",
    "\n",
    "Finally we can plot a forecast of the time series using the forecast function, again from the forecast R package, with a 95% confidence interval where h is the forecast horizon periods in months."
   ]
  },
  {
   "cell_type": "code",
   "execution_count": 40,
   "metadata": {},
   "outputs": [
    {
     "data": {
      "text/html": [
       "<dl>\n",
       "\t<dt>$pred</dt>\n",
       "\t\t<dd><table>\n",
       "<caption>A Time Series: 3 × 12</caption>\n",
       "<thead>\n",
       "\t<tr><th></th><th scope=col>Jan</th><th scope=col>Feb</th><th scope=col>Mar</th><th scope=col>Apr</th><th scope=col>May</th><th scope=col>Jun</th><th scope=col>Jul</th><th scope=col>Aug</th><th scope=col>Sep</th><th scope=col>Oct</th><th scope=col>Nov</th><th scope=col>Dec</th></tr>\n",
       "</thead>\n",
       "<tbody>\n",
       "\t<tr><th scope=row>1961</th><td>447.0532</td><td>421.8774</td><td>453.5262</td><td>489.9008</td><td>502.1835</td><td>564.2246</td><td>649.7953</td><td>636.7146</td><td>538.9209</td><td>491.0672</td><td>422.8243</td><td>464.7526</td></tr>\n",
       "\t<tr><th scope=row>1962</th><td>479.5818</td><td>454.4060</td><td>486.0548</td><td>522.4294</td><td>534.7120</td><td>596.7532</td><td>682.3238</td><td>669.2432</td><td>571.4495</td><td>523.5958</td><td>455.3528</td><td>497.2811</td></tr>\n",
       "\t<tr><th scope=row>1963</th><td>512.1103</td><td>486.9345</td><td>518.5833</td><td>554.9579</td><td>567.2406</td><td>629.2817</td><td>714.8524</td><td>701.7717</td><td>603.9780</td><td>556.1243</td><td>487.8814</td><td>529.8097</td></tr>\n",
       "</tbody>\n",
       "</table>\n",
       "</dd>\n",
       "\t<dt>$se</dt>\n",
       "\t\t<dd><table>\n",
       "<caption>A Time Series: 3 × 12</caption>\n",
       "<thead>\n",
       "\t<tr><th></th><th scope=col>Jan</th><th scope=col>Feb</th><th scope=col>Mar</th><th scope=col>Apr</th><th scope=col>May</th><th scope=col>Jun</th><th scope=col>Jul</th><th scope=col>Aug</th><th scope=col>Sep</th><th scope=col>Oct</th><th scope=col>Nov</th><th scope=col>Dec</th></tr>\n",
       "</thead>\n",
       "<tbody>\n",
       "\t<tr><th scope=row>1961</th><td>11.63717</td><td>14.14733</td><td>16.27484</td><td>18.15472</td><td>19.85742</td><td>21.42523</td><td>22.88589</td><td>24.25875</td><td>25.55798</td><td>26.79429</td><td>27.97601</td><td>29.10980</td></tr>\n",
       "\t<tr><th scope=row>1962</th><td>34.45453</td><td>37.66879</td><td>40.62956</td><td>43.38876</td><td>45.98269</td><td>48.43791</td><td>50.77454</td><td>53.00828</td><td>55.15161</td><td>57.21472</td><td>59.20597</td><td>61.13240</td></tr>\n",
       "\t<tr><th scope=row>1963</th><td>66.28101</td><td>69.96584</td><td>73.46609</td><td>76.80699</td><td>80.00850</td><td>83.08675</td><td>86.05495</td><td>88.92413</td><td>91.70359</td><td>94.40125</td><td>97.02393</td><td>99.57755</td></tr>\n",
       "</tbody>\n",
       "</table>\n",
       "</dd>\n",
       "</dl>\n"
      ],
      "text/latex": [
       "\\begin{description}\n",
       "\\item[\\$pred] A Time Series: 3 × 12\n",
       "\\begin{tabular}{r|llllllllllll}\n",
       "  & Jan & Feb & Mar & Apr & May & Jun & Jul & Aug & Sep & Oct & Nov & Dec\\\\\n",
       "\\hline\n",
       "\t1961 & 447.0532 & 421.8774 & 453.5262 & 489.9008 & 502.1835 & 564.2246 & 649.7953 & 636.7146 & 538.9209 & 491.0672 & 422.8243 & 464.7526\\\\\n",
       "\t1962 & 479.5818 & 454.4060 & 486.0548 & 522.4294 & 534.7120 & 596.7532 & 682.3238 & 669.2432 & 571.4495 & 523.5958 & 455.3528 & 497.2811\\\\\n",
       "\t1963 & 512.1103 & 486.9345 & 518.5833 & 554.9579 & 567.2406 & 629.2817 & 714.8524 & 701.7717 & 603.9780 & 556.1243 & 487.8814 & 529.8097\\\\\n",
       "\\end{tabular}\n",
       "\n",
       "\\item[\\$se] A Time Series: 3 × 12\n",
       "\\begin{tabular}{r|llllllllllll}\n",
       "  & Jan & Feb & Mar & Apr & May & Jun & Jul & Aug & Sep & Oct & Nov & Dec\\\\\n",
       "\\hline\n",
       "\t1961 & 11.63717 & 14.14733 & 16.27484 & 18.15472 & 19.85742 & 21.42523 & 22.88589 & 24.25875 & 25.55798 & 26.79429 & 27.97601 & 29.10980\\\\\n",
       "\t1962 & 34.45453 & 37.66879 & 40.62956 & 43.38876 & 45.98269 & 48.43791 & 50.77454 & 53.00828 & 55.15161 & 57.21472 & 59.20597 & 61.13240\\\\\n",
       "\t1963 & 66.28101 & 69.96584 & 73.46609 & 76.80699 & 80.00850 & 83.08675 & 86.05495 & 88.92413 & 91.70359 & 94.40125 & 97.02393 & 99.57755\\\\\n",
       "\\end{tabular}\n",
       "\n",
       "\\end{description}\n"
      ],
      "text/markdown": [
       "$pred\n",
       ":   \n",
       "A Time Series: 3 × 12\n",
       "\n",
       "| <!--/--> | Jan | Feb | Mar | Apr | May | Jun | Jul | Aug | Sep | Oct | Nov | Dec |\n",
       "|---|---|---|---|---|---|---|---|---|---|---|---|---|\n",
       "| 1961 | 447.0532 | 421.8774 | 453.5262 | 489.9008 | 502.1835 | 564.2246 | 649.7953 | 636.7146 | 538.9209 | 491.0672 | 422.8243 | 464.7526 |\n",
       "| 1962 | 479.5818 | 454.4060 | 486.0548 | 522.4294 | 534.7120 | 596.7532 | 682.3238 | 669.2432 | 571.4495 | 523.5958 | 455.3528 | 497.2811 |\n",
       "| 1963 | 512.1103 | 486.9345 | 518.5833 | 554.9579 | 567.2406 | 629.2817 | 714.8524 | 701.7717 | 603.9780 | 556.1243 | 487.8814 | 529.8097 |\n",
       "\n",
       "\n",
       "$se\n",
       ":   \n",
       "A Time Series: 3 × 12\n",
       "\n",
       "| <!--/--> | Jan | Feb | Mar | Apr | May | Jun | Jul | Aug | Sep | Oct | Nov | Dec |\n",
       "|---|---|---|---|---|---|---|---|---|---|---|---|---|\n",
       "| 1961 | 11.63717 | 14.14733 | 16.27484 | 18.15472 | 19.85742 | 21.42523 | 22.88589 | 24.25875 | 25.55798 | 26.79429 | 27.97601 | 29.10980 |\n",
       "| 1962 | 34.45453 | 37.66879 | 40.62956 | 43.38876 | 45.98269 | 48.43791 | 50.77454 | 53.00828 | 55.15161 | 57.21472 | 59.20597 | 61.13240 |\n",
       "| 1963 | 66.28101 | 69.96584 | 73.46609 | 76.80699 | 80.00850 | 83.08675 | 86.05495 | 88.92413 | 91.70359 | 94.40125 | 97.02393 | 99.57755 |\n",
       "\n",
       "\n",
       "\n",
       "\n"
      ],
      "text/plain": [
       "$pred\n",
       "          Jan      Feb      Mar      Apr      May      Jun      Jul      Aug\n",
       "1961 447.0532 421.8774 453.5262 489.9008 502.1835 564.2246 649.7953 636.7146\n",
       "1962 479.5818 454.4060 486.0548 522.4294 534.7120 596.7532 682.3238 669.2432\n",
       "1963 512.1103 486.9345 518.5833 554.9579 567.2406 629.2817 714.8524 701.7717\n",
       "          Sep      Oct      Nov      Dec\n",
       "1961 538.9209 491.0672 422.8243 464.7526\n",
       "1962 571.4495 523.5958 455.3528 497.2811\n",
       "1963 603.9780 556.1243 487.8814 529.8097\n",
       "\n",
       "$se\n",
       "          Jan      Feb      Mar      Apr      May      Jun      Jul      Aug\n",
       "1961 11.63717 14.14733 16.27484 18.15472 19.85742 21.42523 22.88589 24.25875\n",
       "1962 34.45453 37.66879 40.62956 43.38876 45.98269 48.43791 50.77454 53.00828\n",
       "1963 66.28101 69.96584 73.46609 76.80699 80.00850 83.08675 86.05495 88.92413\n",
       "          Sep      Oct      Nov      Dec\n",
       "1961 25.55798 26.79429 27.97601 29.10980\n",
       "1962 55.15161 57.21472 59.20597 61.13240\n",
       "1963 91.70359 94.40125 97.02393 99.57755\n"
      ]
     },
     "metadata": {},
     "output_type": "display_data"
    }
   ],
   "source": [
    "prediction <- predict(fit, n.ahead = 3 * 12)\n",
    "prediction"
   ]
  },
  {
   "cell_type": "code",
   "execution_count": 41,
   "metadata": {
    "scrolled": false
   },
   "outputs": [
    {
     "data": {
      "text/plain": [
       "         Point Forecast    Lo 95    Hi 95\n",
       "Jan 1961       447.0532 424.2448 469.8616\n",
       "Feb 1961       421.8774 394.1492 449.6057\n",
       "Mar 1961       453.5262 421.6281 485.4243\n",
       "Apr 1961       489.9008 454.3182 525.4834\n",
       "May 1961       502.1835 463.2637 541.1033\n",
       "Jun 1961       564.2246 522.2319 606.2173\n",
       "Jul 1961       649.7953 604.9398 694.6508\n",
       "Aug 1961       636.7146 589.1684 684.2609\n",
       "Sep 1961       538.9209 488.8282 589.0136\n",
       "Oct 1961       491.0672 438.5514 543.5831\n",
       "Nov 1961       422.8243 367.9923 477.6562\n",
       "Dec 1961       464.7526 407.6984 521.8067\n",
       "Jan 1962       479.5818 412.0521 547.1114\n",
       "Feb 1962       454.4060 380.5765 528.2355\n",
       "Mar 1962       486.0548 406.4223 565.6872\n",
       "Apr 1962       522.4294 437.3890 607.4698\n",
       "May 1962       534.7120 444.5876 624.8365\n",
       "Jun 1962       596.7532 501.8166 691.6897\n",
       "Jul 1962       682.3238 582.8075 781.8401\n",
       "Aug 1962       669.2432 565.3489 773.1375\n",
       "Sep 1962       571.4495 463.3543 679.5446\n",
       "Oct 1962       523.5958 411.4570 635.7346\n",
       "Nov 1962       455.3528 339.3112 571.3944\n",
       "Dec 1962       497.2811 377.4638 617.0984\n",
       "Jan 1963       512.1103 382.2019 642.0187\n",
       "Feb 1963       486.9345 349.8040 624.0651\n",
       "Mar 1963       518.5833 374.5924 662.5742\n",
       "Apr 1963       554.9579 404.4190 705.4969\n",
       "May 1963       567.2406 410.4268 724.0544\n",
       "Jun 1963       629.2817 466.4347 792.1288\n",
       "Jul 1963       714.8524 546.1878 883.5170\n",
       "Aug 1963       701.7717 527.4836 876.0598\n",
       "Sep 1963       603.9780 424.2423 783.7137\n",
       "Oct 1963       556.1243 371.1013 741.1474\n",
       "Nov 1963       487.8814 297.7180 678.0448\n",
       "Dec 1963       529.8097 334.6412 724.9781"
      ]
     },
     "metadata": {},
     "output_type": "display_data"
    }
   ],
   "source": [
    "forecast_air_passengers <- forecast(fit, level = c(95), h = 36)\n",
    "forecast_air_passengers"
   ]
  },
  {
   "cell_type": "code",
   "execution_count": 42,
   "metadata": {
    "scrolled": false
   },
   "outputs": [
    {
     "data": {
      "image/png": "[encoded data removed]",
      "text/plain": [
       "plot without title"
      ]
     },
     "metadata": {
      "image/png": {
       "height": 600,
       "width": 960
      },
      "text/plain": {
       "height": 600,
       "width": 960
      }
     },
     "output_type": "display_data"
    }
   ],
   "source": [
    "autoplot(forecast_air_passengers)"
   ]
  },
  {
   "cell_type": "code",
   "execution_count": 44,
   "metadata": {},
   "outputs": [
    {
     "data": {
      "image/png": "[encoded data removed]",
      "text/plain": [
       "Plot with title \"Forecasts from ARIMA(0,1,1)(0,1,1)[12]\""
      ]
     },
     "metadata": {
      "image/png": {
       "height": 600,
       "width": 960
      },
      "text/plain": {
       "height": 600,
       "width": 960
      }
     },
     "output_type": "display_data"
    }
   ],
   "source": [
    "plot(forecast(forecast_air_passengers, 3), xlab = \"Year\", ylab = \"Annual passengers\")"
   ]
  },
  {
   "cell_type": "code",
   "execution_count": 45,
   "metadata": {},
   "outputs": [
    {
     "data": {
      "text/plain": [
       "Series: air_passengers \n",
       "ARIMA(2,1,1)(0,1,0)[12] \n",
       "\n",
       "Coefficients:\n",
       "         ar1     ar2      ma1\n",
       "      0.5960  0.2143  -0.9819\n",
       "s.e.  0.0888  0.0880   0.0292\n",
       "\n",
       "sigma^2 estimated as 132.3:  log likelihood=-504.92\n",
       "AIC=1017.85   AICc=1018.17   BIC=1029.35"
      ]
     },
     "metadata": {},
     "output_type": "display_data"
    }
   ],
   "source": [
    "auto_arima_model <- auto.arima(air_passengers)\n",
    "auto_arima_model"
   ]
  },
  {
   "cell_type": "code",
   "execution_count": 46,
   "metadata": {},
   "outputs": [
    {
     "data": {
      "text/html": [
       "<table>\n",
       "<caption>A matrix: 1 × 7 of type dbl</caption>\n",
       "<thead>\n",
       "\t<tr><th></th><th scope=col>ME</th><th scope=col>RMSE</th><th scope=col>MAE</th><th scope=col>MPE</th><th scope=col>MAPE</th><th scope=col>MASE</th><th scope=col>ACF1</th></tr>\n",
       "</thead>\n",
       "<tbody>\n",
       "\t<tr><th scope=row>Training set</th><td>1.3423</td><td>10.84619</td><td>7.86754</td><td>0.420698</td><td>2.800458</td><td>0.245628</td><td>-0.00124847</td></tr>\n",
       "</tbody>\n",
       "</table>\n"
      ],
      "text/latex": [
       "A matrix: 1 × 7 of type dbl\n",
       "\\begin{tabular}{r|lllllll}\n",
       "  & ME & RMSE & MAE & MPE & MAPE & MASE & ACF1\\\\\n",
       "\\hline\n",
       "\tTraining set & 1.3423 & 10.84619 & 7.86754 & 0.420698 & 2.800458 & 0.245628 & -0.00124847\\\\\n",
       "\\end{tabular}\n"
      ],
      "text/markdown": [
       "\n",
       "A matrix: 1 × 7 of type dbl\n",
       "\n",
       "| <!--/--> | ME | RMSE | MAE | MPE | MAPE | MASE | ACF1 |\n",
       "|---|---|---|---|---|---|---|---|\n",
       "| Training set | 1.3423 | 10.84619 | 7.86754 | 0.420698 | 2.800458 | 0.245628 | -0.00124847 |\n",
       "\n"
      ],
      "text/plain": [
       "             ME     RMSE     MAE     MPE      MAPE     MASE     ACF1       \n",
       "Training set 1.3423 10.84619 7.86754 0.420698 2.800458 0.245628 -0.00124847"
      ]
     },
     "metadata": {},
     "output_type": "display_data"
    }
   ],
   "source": [
    "accuracy(auto_arima_model)"
   ]
  },
  {
   "cell_type": "code",
   "execution_count": 47,
   "metadata": {
    "scrolled": true
   },
   "outputs": [
    {
     "data": {
      "text/html": [
       "<table>\n",
       "<caption>A matrix: 1 × 7 of type dbl</caption>\n",
       "<thead>\n",
       "\t<tr><th></th><th scope=col>ME</th><th scope=col>RMSE</th><th scope=col>MAE</th><th scope=col>MPE</th><th scope=col>MAPE</th><th scope=col>MASE</th><th scope=col>ACF1</th></tr>\n",
       "</thead>\n",
       "<tbody>\n",
       "\t<tr><th scope=row>Training set</th><td>0.3235529</td><td>11.09952</td><td>8.162425</td><td>0.04409006</td><td>2.897135</td><td>0.3156373</td><td>-0.003747514</td></tr>\n",
       "</tbody>\n",
       "</table>\n"
      ],
      "text/latex": [
       "A matrix: 1 × 7 of type dbl\n",
       "\\begin{tabular}{r|lllllll}\n",
       "  & ME & RMSE & MAE & MPE & MAPE & MASE & ACF1\\\\\n",
       "\\hline\n",
       "\tTraining set & 0.3235529 & 11.09952 & 8.162425 & 0.04409006 & 2.897135 & 0.3156373 & -0.003747514\\\\\n",
       "\\end{tabular}\n"
      ],
      "text/markdown": [
       "\n",
       "A matrix: 1 × 7 of type dbl\n",
       "\n",
       "| <!--/--> | ME | RMSE | MAE | MPE | MAPE | MASE | ACF1 |\n",
       "|---|---|---|---|---|---|---|---|\n",
       "| Training set | 0.3235529 | 11.09952 | 8.162425 | 0.04409006 | 2.897135 | 0.3156373 | -0.003747514 |\n",
       "\n"
      ],
      "text/plain": [
       "             ME        RMSE     MAE      MPE        MAPE     MASE     \n",
       "Training set 0.3235529 11.09952 8.162425 0.04409006 2.897135 0.3156373\n",
       "             ACF1        \n",
       "Training set -0.003747514"
      ]
     },
     "metadata": {},
     "output_type": "display_data"
    }
   ],
   "source": [
    "accuracy(fit)"
   ]
  },
  {
   "cell_type": "markdown",
   "metadata": {},
   "source": [
    "## Comparisons\n",
    "\n",
    "auto_arima AIC = 1017.85\n",
    "fit AIC = -483.4\n",
    "\n",
    "Auto_arima coefficient for the moving averages is -0.9819\n",
    "fit coefficient for the moving averages is -0.4018 \n",
    "\n",
    "Auto_arima MAPE = 2.800458\n",
    "fitr MAPE = 0.4752815"
   ]
  },
  {
   "cell_type": "code",
   "execution_count": 49,
   "metadata": {},
   "outputs": [
    {
     "data": {
      "image/png": "[encoded data removed]",
      "text/plain": [
       "Plot with title \"Forecasts from ARIMA(2,1,1)(0,1,0)[12]\""
      ]
     },
     "metadata": {
      "image/png": {
       "height": 600,
       "width": 960
      },
      "text/plain": {
       "height": 600,
       "width": 960
      }
     },
     "output_type": "display_data"
    }
   ],
   "source": [
    "plot(forecast(auto_arima_model, 3 * 12), xlab = \"Year\", ylab = \"Annual passengers\")"
   ]
  },
  {
   "cell_type": "code",
   "execution_count": 50,
   "metadata": {},
   "outputs": [
    {
     "data": {
      "image/png": "[encoded data removed]",
      "text/plain": [
       "Plot with title \"Forecasts from ARIMA(0,1,1)(0,1,1)[12]\""
      ]
     },
     "metadata": {
      "image/png": {
       "height": 600,
       "width": 960
      },
      "text/plain": {
       "height": 600,
       "width": 960
      }
     },
     "output_type": "display_data"
    }
   ],
   "source": [
    "plot(forecast(fit, 3 * 12), xlab = \"Year\", ylab = \"Annual Flow\")"
   ]
  },
  {
   "cell_type": "markdown",
   "metadata": {},
   "source": [
    "## Evaluating the models\n",
    "\n",
    "If the model is appropriate, the residuals should be normally distributed with mean zero, and the autocorrelations should be zero for every possible lag.\n",
    "In other words, the residuals should be normally and independently distributed (no relationship between them). \n",
    "\n",
    "We can examine the residuals using the Q-Q plot function.\n",
    "\n",
    "The results aren’t significant, suggesting the autocorrelations don’t differ from zero.<br>"
   ]
  },
  {
   "cell_type": "code",
   "execution_count": 51,
   "metadata": {},
   "outputs": [
    {
     "data": {
      "image/png": "[encoded data removed]",
      "text/plain": [
       "Plot with title \"Normal Q-Q Plot\""
      ]
     },
     "metadata": {
      "image/png": {
       "height": 600,
       "width": 960
      },
      "text/plain": {
       "height": 600,
       "width": 960
      }
     },
     "output_type": "display_data"
    }
   ],
   "source": [
    "qqnorm(auto_arima_model$residuals)\n",
    "qqline(auto_arima_model$residuals)"
   ]
  },
  {
   "cell_type": "markdown",
   "metadata": {},
   "source": [
    "The `Box.test()` function tests that the autocorrelations are all zero.\n",
    "\n",
    "H0 = the autocorrelations are all zero. \n",
    "\n",
    "In this example, p > 0.05 so fail to reject the null hypothesis \n",
    "This ARIMA model appears to fit the data well"
   ]
  },
  {
   "cell_type": "code",
   "execution_count": 52,
   "metadata": {},
   "outputs": [
    {
     "data": {
      "text/plain": [
       "\n",
       "\tBox-Ljung test\n",
       "\n",
       "data:  auto_arima_model$residuals\n",
       "X-squared = 0.00022916, df = 1, p-value = 0.9879\n"
      ]
     },
     "metadata": {},
     "output_type": "display_data"
    }
   ],
   "source": [
    "Box.test(auto_arima_model$residuals, type = \"Ljung-Box\")"
   ]
  },
  {
   "cell_type": "markdown",
   "metadata": {},
   "source": [
    "We can apply the same tests to the manually selected model."
   ]
  },
  {
   "cell_type": "code",
   "execution_count": 53,
   "metadata": {
    "scrolled": false
   },
   "outputs": [
    {
     "data": {
      "image/png": "[encoded data removed]",
      "text/plain": [
       "Plot with title \"Normal Q-Q Plot\""
      ]
     },
     "metadata": {
      "image/png": {
       "height": 600,
       "width": 960
      },
      "text/plain": {
       "height": 600,
       "width": 960
      }
     },
     "output_type": "display_data"
    }
   ],
   "source": [
    "qqnorm(fit$residuals)\n",
    "qqline(fit$residuals)"
   ]
  },
  {
   "cell_type": "code",
   "execution_count": 54,
   "metadata": {},
   "outputs": [
    {
     "data": {
      "text/plain": [
       "\n",
       "\tBox-Ljung test\n",
       "\n",
       "data:  fit$residuals\n",
       "X-squared = 0.0020647, df = 1, p-value = 0.9638\n"
      ]
     },
     "metadata": {},
     "output_type": "display_data"
    }
   ],
   "source": [
    "Box.test(fit$residuals, type = \"Ljung-Box\")"
   ]
  },
  {
   "cell_type": "markdown",
   "metadata": {},
   "source": [
    "The p value is slightly lower than the auto ARIMA p value (p-value = 0.9879 versus p-value = 0.861)."
   ]
  },
  {
   "cell_type": "code",
   "execution_count": 55,
   "metadata": {},
   "outputs": [],
   "source": [
    "air_passengers_train <- window(x = air_passengers, start=c(1949), end=c(1957, 12))\n",
    "air_passengers_test <- window(x = air_passengers, start=c(1958))"
   ]
  },
  {
   "cell_type": "code",
   "execution_count": 56,
   "metadata": {},
   "outputs": [
    {
     "data": {
      "text/html": [
       "<table>\n",
       "<caption>A Time Series: 9 × 12</caption>\n",
       "<thead>\n",
       "\t<tr><th></th><th scope=col>Jan</th><th scope=col>Feb</th><th scope=col>Mar</th><th scope=col>Apr</th><th scope=col>May</th><th scope=col>Jun</th><th scope=col>Jul</th><th scope=col>Aug</th><th scope=col>Sep</th><th scope=col>Oct</th><th scope=col>Nov</th><th scope=col>Dec</th></tr>\n",
       "</thead>\n",
       "<tbody>\n",
       "\t<tr><th scope=row>1949</th><td>112</td><td>118</td><td>132</td><td>129</td><td>121</td><td>135</td><td>148</td><td>148</td><td>136</td><td>119</td><td>104</td><td>118</td></tr>\n",
       "\t<tr><th scope=row>1950</th><td>115</td><td>126</td><td>141</td><td>135</td><td>125</td><td>149</td><td>170</td><td>170</td><td>158</td><td>133</td><td>114</td><td>140</td></tr>\n",
       "\t<tr><th scope=row>1951</th><td>145</td><td>150</td><td>178</td><td>163</td><td>172</td><td>178</td><td>199</td><td>199</td><td>184</td><td>162</td><td>146</td><td>166</td></tr>\n",
       "\t<tr><th scope=row>1952</th><td>171</td><td>180</td><td>193</td><td>181</td><td>183</td><td>218</td><td>230</td><td>242</td><td>209</td><td>191</td><td>172</td><td>194</td></tr>\n",
       "\t<tr><th scope=row>1953</th><td>196</td><td>196</td><td>236</td><td>235</td><td>229</td><td>243</td><td>264</td><td>272</td><td>237</td><td>211</td><td>180</td><td>201</td></tr>\n",
       "\t<tr><th scope=row>1954</th><td>204</td><td>188</td><td>235</td><td>227</td><td>234</td><td>264</td><td>302</td><td>293</td><td>259</td><td>229</td><td>203</td><td>229</td></tr>\n",
       "\t<tr><th scope=row>1955</th><td>242</td><td>233</td><td>267</td><td>269</td><td>270</td><td>315</td><td>364</td><td>347</td><td>312</td><td>274</td><td>237</td><td>278</td></tr>\n",
       "\t<tr><th scope=row>1956</th><td>284</td><td>277</td><td>317</td><td>313</td><td>318</td><td>374</td><td>413</td><td>405</td><td>355</td><td>306</td><td>271</td><td>306</td></tr>\n",
       "\t<tr><th scope=row>1957</th><td>315</td><td>301</td><td>356</td><td>348</td><td>355</td><td>422</td><td>465</td><td>467</td><td>404</td><td>347</td><td>305</td><td>336</td></tr>\n",
       "</tbody>\n",
       "</table>\n"
      ],
      "text/latex": [
       "A Time Series: 9 × 12\n",
       "\\begin{tabular}{r|llllllllllll}\n",
       "  & Jan & Feb & Mar & Apr & May & Jun & Jul & Aug & Sep & Oct & Nov & Dec\\\\\n",
       "\\hline\n",
       "\t1949 & 112 & 118 & 132 & 129 & 121 & 135 & 148 & 148 & 136 & 119 & 104 & 118\\\\\n",
       "\t1950 & 115 & 126 & 141 & 135 & 125 & 149 & 170 & 170 & 158 & 133 & 114 & 140\\\\\n",
       "\t1951 & 145 & 150 & 178 & 163 & 172 & 178 & 199 & 199 & 184 & 162 & 146 & 166\\\\\n",
       "\t1952 & 171 & 180 & 193 & 181 & 183 & 218 & 230 & 242 & 209 & 191 & 172 & 194\\\\\n",
       "\t1953 & 196 & 196 & 236 & 235 & 229 & 243 & 264 & 272 & 237 & 211 & 180 & 201\\\\\n",
       "\t1954 & 204 & 188 & 235 & 227 & 234 & 264 & 302 & 293 & 259 & 229 & 203 & 229\\\\\n",
       "\t1955 & 242 & 233 & 267 & 269 & 270 & 315 & 364 & 347 & 312 & 274 & 237 & 278\\\\\n",
       "\t1956 & 284 & 277 & 317 & 313 & 318 & 374 & 413 & 405 & 355 & 306 & 271 & 306\\\\\n",
       "\t1957 & 315 & 301 & 356 & 348 & 355 & 422 & 465 & 467 & 404 & 347 & 305 & 336\\\\\n",
       "\\end{tabular}\n"
      ],
      "text/markdown": [
       "\n",
       "A Time Series: 9 × 12\n",
       "\n",
       "| <!--/--> | Jan | Feb | Mar | Apr | May | Jun | Jul | Aug | Sep | Oct | Nov | Dec |\n",
       "|---|---|---|---|---|---|---|---|---|---|---|---|---|\n",
       "| 1949 | 112 | 118 | 132 | 129 | 121 | 135 | 148 | 148 | 136 | 119 | 104 | 118 |\n",
       "| 1950 | 115 | 126 | 141 | 135 | 125 | 149 | 170 | 170 | 158 | 133 | 114 | 140 |\n",
       "| 1951 | 145 | 150 | 178 | 163 | 172 | 178 | 199 | 199 | 184 | 162 | 146 | 166 |\n",
       "| 1952 | 171 | 180 | 193 | 181 | 183 | 218 | 230 | 242 | 209 | 191 | 172 | 194 |\n",
       "| 1953 | 196 | 196 | 236 | 235 | 229 | 243 | 264 | 272 | 237 | 211 | 180 | 201 |\n",
       "| 1954 | 204 | 188 | 235 | 227 | 234 | 264 | 302 | 293 | 259 | 229 | 203 | 229 |\n",
       "| 1955 | 242 | 233 | 267 | 269 | 270 | 315 | 364 | 347 | 312 | 274 | 237 | 278 |\n",
       "| 1956 | 284 | 277 | 317 | 313 | 318 | 374 | 413 | 405 | 355 | 306 | 271 | 306 |\n",
       "| 1957 | 315 | 301 | 356 | 348 | 355 | 422 | 465 | 467 | 404 | 347 | 305 | 336 |\n",
       "\n"
      ],
      "text/plain": [
       "     Jan Feb Mar Apr May Jun Jul Aug Sep Oct Nov Dec\n",
       "1949 112 118 132 129 121 135 148 148 136 119 104 118\n",
       "1950 115 126 141 135 125 149 170 170 158 133 114 140\n",
       "1951 145 150 178 163 172 178 199 199 184 162 146 166\n",
       "1952 171 180 193 181 183 218 230 242 209 191 172 194\n",
       "1953 196 196 236 235 229 243 264 272 237 211 180 201\n",
       "1954 204 188 235 227 234 264 302 293 259 229 203 229\n",
       "1955 242 233 267 269 270 315 364 347 312 274 237 278\n",
       "1956 284 277 317 313 318 374 413 405 355 306 271 306\n",
       "1957 315 301 356 348 355 422 465 467 404 347 305 336"
      ]
     },
     "metadata": {},
     "output_type": "display_data"
    }
   ],
   "source": [
    "air_passengers_train"
   ]
  },
  {
   "cell_type": "code",
   "execution_count": 57,
   "metadata": {},
   "outputs": [
    {
     "data": {
      "text/html": [
       "<table>\n",
       "<caption>A Time Series: 3 × 12</caption>\n",
       "<thead>\n",
       "\t<tr><th></th><th scope=col>Jan</th><th scope=col>Feb</th><th scope=col>Mar</th><th scope=col>Apr</th><th scope=col>May</th><th scope=col>Jun</th><th scope=col>Jul</th><th scope=col>Aug</th><th scope=col>Sep</th><th scope=col>Oct</th><th scope=col>Nov</th><th scope=col>Dec</th></tr>\n",
       "</thead>\n",
       "<tbody>\n",
       "\t<tr><th scope=row>1958</th><td>340</td><td>318</td><td>362</td><td>348</td><td>363</td><td>435</td><td>491</td><td>505</td><td>404</td><td>359</td><td>310</td><td>337</td></tr>\n",
       "\t<tr><th scope=row>1959</th><td>360</td><td>342</td><td>406</td><td>396</td><td>420</td><td>472</td><td>548</td><td>559</td><td>463</td><td>407</td><td>362</td><td>405</td></tr>\n",
       "\t<tr><th scope=row>1960</th><td>417</td><td>391</td><td>419</td><td>461</td><td>472</td><td>535</td><td>622</td><td>606</td><td>508</td><td>461</td><td>390</td><td>432</td></tr>\n",
       "</tbody>\n",
       "</table>\n"
      ],
      "text/latex": [
       "A Time Series: 3 × 12\n",
       "\\begin{tabular}{r|llllllllllll}\n",
       "  & Jan & Feb & Mar & Apr & May & Jun & Jul & Aug & Sep & Oct & Nov & Dec\\\\\n",
       "\\hline\n",
       "\t1958 & 340 & 318 & 362 & 348 & 363 & 435 & 491 & 505 & 404 & 359 & 310 & 337\\\\\n",
       "\t1959 & 360 & 342 & 406 & 396 & 420 & 472 & 548 & 559 & 463 & 407 & 362 & 405\\\\\n",
       "\t1960 & 417 & 391 & 419 & 461 & 472 & 535 & 622 & 606 & 508 & 461 & 390 & 432\\\\\n",
       "\\end{tabular}\n"
      ],
      "text/markdown": [
       "\n",
       "A Time Series: 3 × 12\n",
       "\n",
       "| <!--/--> | Jan | Feb | Mar | Apr | May | Jun | Jul | Aug | Sep | Oct | Nov | Dec |\n",
       "|---|---|---|---|---|---|---|---|---|---|---|---|---|\n",
       "| 1958 | 340 | 318 | 362 | 348 | 363 | 435 | 491 | 505 | 404 | 359 | 310 | 337 |\n",
       "| 1959 | 360 | 342 | 406 | 396 | 420 | 472 | 548 | 559 | 463 | 407 | 362 | 405 |\n",
       "| 1960 | 417 | 391 | 419 | 461 | 472 | 535 | 622 | 606 | 508 | 461 | 390 | 432 |\n",
       "\n"
      ],
      "text/plain": [
       "     Jan Feb Mar Apr May Jun Jul Aug Sep Oct Nov Dec\n",
       "1958 340 318 362 348 363 435 491 505 404 359 310 337\n",
       "1959 360 342 406 396 420 472 548 559 463 407 362 405\n",
       "1960 417 391 419 461 472 535 622 606 508 461 390 432"
      ]
     },
     "metadata": {},
     "output_type": "display_data"
    }
   ],
   "source": [
    "air_passengers_test"
   ]
  },
  {
   "cell_type": "code",
   "execution_count": 58,
   "metadata": {},
   "outputs": [
    {
     "data": {
      "text/plain": [
       "Series: air_passengers_train \n",
       "ARIMA(1,1,0)(0,1,0)[12] \n",
       "\n",
       "Coefficients:\n",
       "          ar1\n",
       "      -0.2411\n",
       "s.e.   0.0992\n",
       "\n",
       "sigma^2 estimated as 93.74:  log likelihood=-350\n",
       "AIC=704   AICc=704.13   BIC=709.11"
      ]
     },
     "metadata": {},
     "output_type": "display_data"
    }
   ],
   "source": [
    "auto_arima_model <- auto.arima(air_passengers_train)\n",
    "auto_arima_model"
   ]
  },
  {
   "cell_type": "code",
   "execution_count": 59,
   "metadata": {},
   "outputs": [
    {
     "data": {
      "text/plain": [
       "         Point Forecast    Lo 80    Hi 80    Lo 95    Hi 95\n",
       "Jan 1958       345.9645 333.5565 358.3725 326.9882 364.9408\n",
       "Feb 1958       331.7319 316.1557 347.3082 307.9101 355.5538\n",
       "Mar 1958       386.7880 368.2034 405.3727 358.3653 415.2108\n",
       "Apr 1958       378.7745 357.6875 399.8615 346.5247 411.0243\n",
       "May 1958       385.7778 362.4374 409.1181 350.0818 421.4737\n",
       "Jun 1958       452.7770 427.3865 478.1675 413.9455 491.6084\n",
       "Jul 1958       495.7772 468.4892 523.0651 454.0438 537.5105\n",
       "Aug 1958       497.7771 468.7155 526.8388 453.3312 542.2231\n",
       "Sep 1958       434.7771 404.0440 465.5103 387.7748 481.7794\n",
       "Oct 1958       377.7771 345.4588 410.0954 328.3505 427.2037\n",
       "Nov 1958       335.7771 301.9478 369.6064 284.0397 387.5145\n",
       "Dec 1958       366.7771 331.5015 402.0527 312.8278 420.7265\n",
       "Jan 1959       376.7416 334.9521 418.5311 312.8301 440.6532\n",
       "Feb 1959       362.5091 316.4304 408.5877 292.0378 432.9803\n",
       "Mar 1959       417.5651 367.2794 467.8509 340.6597 494.4705\n",
       "Apr 1959       409.5516 355.4490 463.6542 326.8088 492.2944\n",
       "May 1959       416.5549 358.8729 474.2368 328.3380 504.7718\n",
       "Jun 1959       483.5541 422.5056 544.6025 390.1885 576.9196\n",
       "Jul 1959       526.5543 462.3147 590.7938 428.3084 624.8002\n",
       "Aug 1959       528.5542 461.2749 595.8335 425.6594 631.4490\n",
       "Sep 1959       465.5542 395.3667 535.7418 358.2117 572.8968\n",
       "Oct 1959       408.5542 335.5743 481.5342 296.9410 520.1675\n",
       "Nov 1959       366.5542 290.8848 442.2237 250.8278 482.2807\n",
       "Dec 1959       397.5542 319.2877 475.8208 277.8559 517.2526\n",
       "Jan 1960       407.5187 322.8099 492.2276 277.9678 537.0697\n",
       "Feb 1960       393.2862 303.6169 482.9554 256.1489 530.4235\n",
       "Mar 1960       448.3423 353.7456 542.9389 303.6692 593.0153\n",
       "Apr 1960       440.3287 341.1016 539.5558 288.5740 592.0835\n",
       "May 1960       447.3320 343.6690 550.9950 288.7930 605.8709\n",
       "Jun 1960       514.3312 406.4172 622.2452 349.2910 679.3714\n",
       "Jul 1960       557.3314 445.3270 669.3358 386.0355 728.6273\n",
       "Aug 1960       559.3314 443.3810 675.2817 382.0005 736.6622\n",
       "Sep 1960       496.3314 376.5649 616.0979 313.1643 679.4984\n",
       "Oct 1960       439.3314 315.8666 562.7961 250.5084 628.1544\n",
       "Nov 1960       397.3314 270.2760 524.3867 203.0170 591.6457\n",
       "Dec 1960       428.3314 297.7841 558.8786 228.6766 627.9861"
      ]
     },
     "metadata": {},
     "output_type": "display_data"
    }
   ],
   "source": [
    "predict <- forecast(auto_arima_model, 3 * 12)\n",
    "predict"
   ]
  },
  {
   "cell_type": "code",
   "execution_count": 60,
   "metadata": {},
   "outputs": [
    {
     "data": {
      "text/html": [
       "<table>\n",
       "<caption>A data.frame: 6 × 6</caption>\n",
       "<thead>\n",
       "\t<tr><th></th><th scope=col>actuals</th><th scope=col>predicted.Point.Forecast</th><th scope=col>predicted.Lo.80</th><th scope=col>predicted.Hi.80</th><th scope=col>predicted.Lo.95</th><th scope=col>predicted.Hi.95</th></tr>\n",
       "\t<tr><th></th><th scope=col>&lt;dbl&gt;</th><th scope=col>&lt;dbl&gt;</th><th scope=col>&lt;dbl&gt;</th><th scope=col>&lt;dbl&gt;</th><th scope=col>&lt;dbl&gt;</th><th scope=col>&lt;dbl&gt;</th></tr>\n",
       "</thead>\n",
       "<tbody>\n",
       "\t<tr><th scope=row>1</th><td>340</td><td>345.9645</td><td>333.5565</td><td>358.3725</td><td>326.9882</td><td>364.9408</td></tr>\n",
       "\t<tr><th scope=row>2</th><td>318</td><td>331.7319</td><td>316.1557</td><td>347.3082</td><td>307.9101</td><td>355.5538</td></tr>\n",
       "\t<tr><th scope=row>3</th><td>362</td><td>386.7880</td><td>368.2034</td><td>405.3727</td><td>358.3653</td><td>415.2108</td></tr>\n",
       "\t<tr><th scope=row>4</th><td>348</td><td>378.7745</td><td>357.6875</td><td>399.8615</td><td>346.5247</td><td>411.0243</td></tr>\n",
       "\t<tr><th scope=row>5</th><td>363</td><td>385.7778</td><td>362.4374</td><td>409.1181</td><td>350.0818</td><td>421.4737</td></tr>\n",
       "\t<tr><th scope=row>6</th><td>435</td><td>452.7770</td><td>427.3865</td><td>478.1675</td><td>413.9455</td><td>491.6084</td></tr>\n",
       "</tbody>\n",
       "</table>\n"
      ],
      "text/latex": [
       "A data.frame: 6 × 6\n",
       "\\begin{tabular}{r|llllll}\n",
       "  & actuals & predicted.Point.Forecast & predicted.Lo.80 & predicted.Hi.80 & predicted.Lo.95 & predicted.Hi.95\\\\\n",
       "  & <dbl> & <dbl> & <dbl> & <dbl> & <dbl> & <dbl>\\\\\n",
       "\\hline\n",
       "\t1 & 340 & 345.9645 & 333.5565 & 358.3725 & 326.9882 & 364.9408\\\\\n",
       "\t2 & 318 & 331.7319 & 316.1557 & 347.3082 & 307.9101 & 355.5538\\\\\n",
       "\t3 & 362 & 386.7880 & 368.2034 & 405.3727 & 358.3653 & 415.2108\\\\\n",
       "\t4 & 348 & 378.7745 & 357.6875 & 399.8615 & 346.5247 & 411.0243\\\\\n",
       "\t5 & 363 & 385.7778 & 362.4374 & 409.1181 & 350.0818 & 421.4737\\\\\n",
       "\t6 & 435 & 452.7770 & 427.3865 & 478.1675 & 413.9455 & 491.6084\\\\\n",
       "\\end{tabular}\n"
      ],
      "text/markdown": [
       "\n",
       "A data.frame: 6 × 6\n",
       "\n",
       "| <!--/--> | actuals &lt;dbl&gt; | predicted.Point.Forecast &lt;dbl&gt; | predicted.Lo.80 &lt;dbl&gt; | predicted.Hi.80 &lt;dbl&gt; | predicted.Lo.95 &lt;dbl&gt; | predicted.Hi.95 &lt;dbl&gt; |\n",
       "|---|---|---|---|---|---|---|\n",
       "| 1 | 340 | 345.9645 | 333.5565 | 358.3725 | 326.9882 | 364.9408 |\n",
       "| 2 | 318 | 331.7319 | 316.1557 | 347.3082 | 307.9101 | 355.5538 |\n",
       "| 3 | 362 | 386.7880 | 368.2034 | 405.3727 | 358.3653 | 415.2108 |\n",
       "| 4 | 348 | 378.7745 | 357.6875 | 399.8615 | 346.5247 | 411.0243 |\n",
       "| 5 | 363 | 385.7778 | 362.4374 | 409.1181 | 350.0818 | 421.4737 |\n",
       "| 6 | 435 | 452.7770 | 427.3865 | 478.1675 | 413.9455 | 491.6084 |\n",
       "\n"
      ],
      "text/plain": [
       "  actuals predicted.Point.Forecast predicted.Lo.80 predicted.Hi.80\n",
       "1 340     345.9645                 333.5565        358.3725       \n",
       "2 318     331.7319                 316.1557        347.3082       \n",
       "3 362     386.7880                 368.2034        405.3727       \n",
       "4 348     378.7745                 357.6875        399.8615       \n",
       "5 363     385.7778                 362.4374        409.1181       \n",
       "6 435     452.7770                 427.3865        478.1675       \n",
       "  predicted.Lo.95 predicted.Hi.95\n",
       "1 326.9882        364.9408       \n",
       "2 307.9101        355.5538       \n",
       "3 358.3653        415.2108       \n",
       "4 346.5247        411.0243       \n",
       "5 350.0818        421.4737       \n",
       "6 413.9455        491.6084       "
      ]
     },
     "metadata": {},
     "output_type": "display_data"
    }
   ],
   "source": [
    "# make actuals_predicted dataframe.\n",
    "actuals_predictions <- data.frame(cbind(actuals = air_passengers_test, predicted = predict))\n",
    "head(actuals_predictions)"
   ]
  },
  {
   "cell_type": "code",
   "execution_count": 61,
   "metadata": {},
   "outputs": [
    {
     "data": {
      "text/html": [
       "<table>\n",
       "<caption>A matrix: 6 × 6 of type dbl</caption>\n",
       "<thead>\n",
       "\t<tr><th></th><th scope=col>actuals</th><th scope=col>predicted.Point.Forecast</th><th scope=col>predicted.Lo.80</th><th scope=col>predicted.Hi.80</th><th scope=col>predicted.Lo.95</th><th scope=col>predicted.Hi.95</th></tr>\n",
       "</thead>\n",
       "<tbody>\n",
       "\t<tr><th scope=row>actuals</th><td>1.0000000</td><td>0.9804770</td><td>0.7351465</td><td>0.9445094</td><td>0.4937979</td><td>0.9021220</td></tr>\n",
       "\t<tr><th scope=row>predicted.Point.Forecast</th><td>0.9804770</td><td>1.0000000</td><td>0.8101942</td><td>0.9238760</td><td>0.5870616</td><td>0.8691093</td></tr>\n",
       "\t<tr><th scope=row>predicted.Lo.80</th><td>0.7351465</td><td>0.8101942</td><td>1.0000000</td><td>0.5241998</td><td>0.9501564</td><td>0.4142201</td></tr>\n",
       "\t<tr><th scope=row>predicted.Hi.80</th><td>0.9445094</td><td>0.9238760</td><td>0.5241998</td><td>1.0000000</td><td>0.2325669</td><td>0.9922364</td></tr>\n",
       "\t<tr><th scope=row>predicted.Lo.95</th><td>0.4937979</td><td>0.5870616</td><td>0.9501564</td><td>0.2325669</td><td>1.0000000</td><td>0.1098049</td></tr>\n",
       "\t<tr><th scope=row>predicted.Hi.95</th><td>0.9021220</td><td>0.8691093</td><td>0.4142201</td><td>0.9922364</td><td>0.1098049</td><td>1.0000000</td></tr>\n",
       "</tbody>\n",
       "</table>\n"
      ],
      "text/latex": [
       "A matrix: 6 × 6 of type dbl\n",
       "\\begin{tabular}{r|llllll}\n",
       "  & actuals & predicted.Point.Forecast & predicted.Lo.80 & predicted.Hi.80 & predicted.Lo.95 & predicted.Hi.95\\\\\n",
       "\\hline\n",
       "\tactuals & 1.0000000 & 0.9804770 & 0.7351465 & 0.9445094 & 0.4937979 & 0.9021220\\\\\n",
       "\tpredicted.Point.Forecast & 0.9804770 & 1.0000000 & 0.8101942 & 0.9238760 & 0.5870616 & 0.8691093\\\\\n",
       "\tpredicted.Lo.80 & 0.7351465 & 0.8101942 & 1.0000000 & 0.5241998 & 0.9501564 & 0.4142201\\\\\n",
       "\tpredicted.Hi.80 & 0.9445094 & 0.9238760 & 0.5241998 & 1.0000000 & 0.2325669 & 0.9922364\\\\\n",
       "\tpredicted.Lo.95 & 0.4937979 & 0.5870616 & 0.9501564 & 0.2325669 & 1.0000000 & 0.1098049\\\\\n",
       "\tpredicted.Hi.95 & 0.9021220 & 0.8691093 & 0.4142201 & 0.9922364 & 0.1098049 & 1.0000000\\\\\n",
       "\\end{tabular}\n"
      ],
      "text/markdown": [
       "\n",
       "A matrix: 6 × 6 of type dbl\n",
       "\n",
       "| <!--/--> | actuals | predicted.Point.Forecast | predicted.Lo.80 | predicted.Hi.80 | predicted.Lo.95 | predicted.Hi.95 |\n",
       "|---|---|---|---|---|---|---|\n",
       "| actuals | 1.0000000 | 0.9804770 | 0.7351465 | 0.9445094 | 0.4937979 | 0.9021220 |\n",
       "| predicted.Point.Forecast | 0.9804770 | 1.0000000 | 0.8101942 | 0.9238760 | 0.5870616 | 0.8691093 |\n",
       "| predicted.Lo.80 | 0.7351465 | 0.8101942 | 1.0000000 | 0.5241998 | 0.9501564 | 0.4142201 |\n",
       "| predicted.Hi.80 | 0.9445094 | 0.9238760 | 0.5241998 | 1.0000000 | 0.2325669 | 0.9922364 |\n",
       "| predicted.Lo.95 | 0.4937979 | 0.5870616 | 0.9501564 | 0.2325669 | 1.0000000 | 0.1098049 |\n",
       "| predicted.Hi.95 | 0.9021220 | 0.8691093 | 0.4142201 | 0.9922364 | 0.1098049 | 1.0000000 |\n",
       "\n"
      ],
      "text/plain": [
       "                         actuals   predicted.Point.Forecast predicted.Lo.80\n",
       "actuals                  1.0000000 0.9804770                0.7351465      \n",
       "predicted.Point.Forecast 0.9804770 1.0000000                0.8101942      \n",
       "predicted.Lo.80          0.7351465 0.8101942                1.0000000      \n",
       "predicted.Hi.80          0.9445094 0.9238760                0.5241998      \n",
       "predicted.Lo.95          0.4937979 0.5870616                0.9501564      \n",
       "predicted.Hi.95          0.9021220 0.8691093                0.4142201      \n",
       "                         predicted.Hi.80 predicted.Lo.95 predicted.Hi.95\n",
       "actuals                  0.9445094       0.4937979       0.9021220      \n",
       "predicted.Point.Forecast 0.9238760       0.5870616       0.8691093      \n",
       "predicted.Lo.80          0.5241998       0.9501564       0.4142201      \n",
       "predicted.Hi.80          1.0000000       0.2325669       0.9922364      \n",
       "predicted.Lo.95          0.2325669       1.0000000       0.1098049      \n",
       "predicted.Hi.95          0.9922364       0.1098049       1.0000000      "
      ]
     },
     "metadata": {},
     "output_type": "display_data"
    }
   ],
   "source": [
    "correlation_accuracy <- cor(actuals_predictions)\n",
    "correlation_accuracy"
   ]
  }
 ],
 "metadata": {
  "kernelspec": {
   "display_name": "R",
   "language": "R",
   "name": "ir"
  },
  "language_info": {
   "codemirror_mode": "r",
   "file_extension": ".r",
   "mimetype": "text/x-r-source",
   "name": "R",
   "pygments_lexer": "r",
   "version": "3.6.1"
  }
 },
 "nbformat": 4,
 "nbformat_minor": 4
}
